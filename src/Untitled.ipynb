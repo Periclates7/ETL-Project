{
 "cells": [
  {
   "cell_type": "code",
   "execution_count": 1,
   "id": "4164d243",
   "metadata": {},
   "outputs": [],
   "source": [
    "# Importamos todas las librerías y recursos que necesitaremos\n",
    "\n",
    "import numpy as np\n",
    "import pandas as pd\n",
    "import time\n",
    "\n",
    "pd.set_option('display.max_rows', None)\n",
    "pd.set_option('display.max_columns', None)\n",
    "\n",
    "import requests\n",
    "from bs4 import BeautifulSoup\n",
    "\n",
    "from selenium.webdriver.chrome.options import Options\n",
    "from webdriver_manager.chrome import ChromeDriverManager\n",
    "from selenium import webdriver\n",
    "from selenium.webdriver.common.by import By\n",
    "PATH=ChromeDriverManager().install()\n",
    "\n",
    "import warnings\n",
    "warnings.filterwarnings('ignore')"
   ]
  },
  {
   "cell_type": "code",
   "execution_count": 66,
   "id": "191b2633",
   "metadata": {},
   "outputs": [
    {
     "data": {
      "text/html": [
       "<div>\n",
       "<style scoped>\n",
       "    .dataframe tbody tr th:only-of-type {\n",
       "        vertical-align: middle;\n",
       "    }\n",
       "\n",
       "    .dataframe tbody tr th {\n",
       "        vertical-align: top;\n",
       "    }\n",
       "\n",
       "    .dataframe thead th {\n",
       "        text-align: right;\n",
       "    }\n",
       "</style>\n",
       "<table border=\"1\" class=\"dataframe\">\n",
       "  <thead>\n",
       "    <tr style=\"text-align: right;\">\n",
       "      <th></th>\n",
       "      <th>Unnamed: 0</th>\n",
       "      <th>Champions</th>\n",
       "      <th>HP</th>\n",
       "      <th>HP+</th>\n",
       "      <th>HP5</th>\n",
       "      <th>HP5+</th>\n",
       "      <th>MP</th>\n",
       "      <th>MP+</th>\n",
       "      <th>MP5</th>\n",
       "      <th>MP5+</th>\n",
       "      <th>AD</th>\n",
       "      <th>AD+</th>\n",
       "      <th>AS</th>\n",
       "      <th>AS+</th>\n",
       "      <th>AR</th>\n",
       "      <th>AR+</th>\n",
       "      <th>MR</th>\n",
       "      <th>MR+</th>\n",
       "      <th>MS</th>\n",
       "      <th>Range</th>\n",
       "      <th>Title</th>\n",
       "      <th>Release date</th>\n",
       "      <th>Last changed</th>\n",
       "      <th>Class(es)</th>\n",
       "      <th>Legacy</th>\n",
       "      <th>Position(s)</th>\n",
       "      <th>Resource</th>\n",
       "      <th>Range type</th>\n",
       "      <th>Adaptive type</th>\n",
       "      <th>Store price</th>\n",
       "      <th>Crafting</th>\n",
       "      <th>Style</th>\n",
       "      <th>Passive</th>\n",
       "      <th>Q Spell</th>\n",
       "      <th>W Spell</th>\n",
       "      <th>E Spell</th>\n",
       "      <th>Ultimate</th>\n",
       "      <th>Popularity</th>\n",
       "      <th>Winrate</th>\n",
       "      <th>BanRate</th>\n",
       "      <th>Mainedby</th>\n",
       "      <th>PentaKill</th>\n",
       "      <th>Gold</th>\n",
       "      <th>Minions</th>\n",
       "      <th>Wards</th>\n",
       "      <th>DamageDealt</th>\n",
       "      <th>KDA_kills</th>\n",
       "      <th>KDA_deaths</th>\n",
       "      <th>KDA_assists</th>\n",
       "    </tr>\n",
       "  </thead>\n",
       "  <tbody>\n",
       "    <tr>\n",
       "      <th>0</th>\n",
       "      <td>0</td>\n",
       "      <td>Aatrox</td>\n",
       "      <td>580.0</td>\n",
       "      <td>90</td>\n",
       "      <td>3.0</td>\n",
       "      <td>1.0</td>\n",
       "      <td>0.0</td>\n",
       "      <td>0.0</td>\n",
       "      <td>0.0</td>\n",
       "      <td>0.0</td>\n",
       "      <td>60.0</td>\n",
       "      <td>5.0</td>\n",
       "      <td>0.651</td>\n",
       "      <td>+2.5%</td>\n",
       "      <td>38.0</td>\n",
       "      <td>3.25</td>\n",
       "      <td>32.0</td>\n",
       "      <td>1.25</td>\n",
       "      <td>345</td>\n",
       "      <td>175</td>\n",
       "      <td>the Darkin Blade</td>\n",
       "      <td>2013-06-13</td>\n",
       "      <td>V11.2</td>\n",
       "      <td>Juggernaut</td>\n",
       "      <td>Fighter Tank</td>\n",
       "      <td>Top Middle</td>\n",
       "      <td>Manaless ( Blood Well)</td>\n",
       "      <td>Melee</td>\n",
       "      <td>Physical</td>\n",
       "      <td>4800 |  880</td>\n",
       "      <td>+  2880</td>\n",
       "      <td>Damage3 Toughness3 Control2 Mobility2 Utili...</td>\n",
       "      <td>Deathbringer Stance</td>\n",
       "      <td>The Darkin Blade</td>\n",
       "      <td>Infernal Chains</td>\n",
       "      <td>Umbral Dash</td>\n",
       "      <td>World Ender</td>\n",
       "      <td>5.2%</td>\n",
       "      <td>50.4%</td>\n",
       "      <td>2.5%</td>\n",
       "      <td>0.6%</td>\n",
       "      <td>0.0017</td>\n",
       "      <td>10,804</td>\n",
       "      <td>164.9</td>\n",
       "      <td>7.7</td>\n",
       "      <td>19,100</td>\n",
       "      <td>5.7</td>\n",
       "      <td>5.7</td>\n",
       "      <td>6.0</td>\n",
       "    </tr>\n",
       "    <tr>\n",
       "      <th>1</th>\n",
       "      <td>1</td>\n",
       "      <td>Ahri</td>\n",
       "      <td>526.0</td>\n",
       "      <td>92</td>\n",
       "      <td>5.5</td>\n",
       "      <td>0.6</td>\n",
       "      <td>418.0</td>\n",
       "      <td>25.0</td>\n",
       "      <td>8.0</td>\n",
       "      <td>0.8</td>\n",
       "      <td>53.0</td>\n",
       "      <td>3.0</td>\n",
       "      <td>0.668</td>\n",
       "      <td>+2%</td>\n",
       "      <td>21.0</td>\n",
       "      <td>3.50</td>\n",
       "      <td>30.0</td>\n",
       "      <td>0.50</td>\n",
       "      <td>330</td>\n",
       "      <td>550</td>\n",
       "      <td>the Nine-Tailed Fox</td>\n",
       "      <td>2011-12-14</td>\n",
       "      <td>V11.11</td>\n",
       "      <td>Burst</td>\n",
       "      <td>Mage Assassin</td>\n",
       "      <td>Middle</td>\n",
       "      <td>Mana</td>\n",
       "      <td>Ranged</td>\n",
       "      <td>Magic</td>\n",
       "      <td>3150 |  790</td>\n",
       "      <td>+  1890</td>\n",
       "      <td>Damage3 Toughness1 Control2 Mobility3 Utili...</td>\n",
       "      <td>Essence Theft</td>\n",
       "      <td>Orb of Deception</td>\n",
       "      <td>Fox-Fire</td>\n",
       "      <td>Charm</td>\n",
       "      <td>Spirit Rush</td>\n",
       "      <td>5.2%</td>\n",
       "      <td>51.6%</td>\n",
       "      <td>1.1%</td>\n",
       "      <td>0.6%</td>\n",
       "      <td>0.0003</td>\n",
       "      <td>10,858</td>\n",
       "      <td>160.3</td>\n",
       "      <td>9.8</td>\n",
       "      <td>19,146</td>\n",
       "      <td>6.2</td>\n",
       "      <td>5.4</td>\n",
       "      <td>7.8</td>\n",
       "    </tr>\n",
       "    <tr>\n",
       "      <th>2</th>\n",
       "      <td>2</td>\n",
       "      <td>Akali</td>\n",
       "      <td>500.0</td>\n",
       "      <td>105</td>\n",
       "      <td>8.0</td>\n",
       "      <td>0.5</td>\n",
       "      <td>200.0</td>\n",
       "      <td>0.0</td>\n",
       "      <td>50.0</td>\n",
       "      <td>0.0</td>\n",
       "      <td>62.0</td>\n",
       "      <td>3.3</td>\n",
       "      <td>0.625</td>\n",
       "      <td>+3.2%</td>\n",
       "      <td>23.0</td>\n",
       "      <td>3.50</td>\n",
       "      <td>37.0</td>\n",
       "      <td>1.25</td>\n",
       "      <td>345</td>\n",
       "      <td>125</td>\n",
       "      <td>the Rogue Assassin</td>\n",
       "      <td>2010-05-11</td>\n",
       "      <td>V11.14</td>\n",
       "      <td>Assassin</td>\n",
       "      <td>Assassin</td>\n",
       "      <td>Top Middle</td>\n",
       "      <td>Energy</td>\n",
       "      <td>Melee</td>\n",
       "      <td>Physical</td>\n",
       "      <td>3150 |  790</td>\n",
       "      <td>+  1890</td>\n",
       "      <td>Damage3 Toughness1 Control1 Mobility3 Utili...</td>\n",
       "      <td>Assassin's Mark</td>\n",
       "      <td>Five Point Strike</td>\n",
       "      <td>Twilight Shroud</td>\n",
       "      <td>Shuriken Flip</td>\n",
       "      <td>Perfect Execution</td>\n",
       "      <td>5.9%</td>\n",
       "      <td>46.5%</td>\n",
       "      <td>7.0%</td>\n",
       "      <td>0.6%</td>\n",
       "      <td>0.0015</td>\n",
       "      <td>10,786</td>\n",
       "      <td>151.1</td>\n",
       "      <td>7.9</td>\n",
       "      <td>19,521</td>\n",
       "      <td>7.5</td>\n",
       "      <td>6.0</td>\n",
       "      <td>5.1</td>\n",
       "    </tr>\n",
       "  </tbody>\n",
       "</table>\n",
       "</div>"
      ],
      "text/plain": [
       "   Unnamed: 0 Champions     HP  HP+  HP5  HP5+     MP   MP+   MP5  MP5+    AD  \\\n",
       "0           0    Aatrox  580.0   90  3.0   1.0    0.0   0.0   0.0   0.0  60.0   \n",
       "1           1      Ahri  526.0   92  5.5   0.6  418.0  25.0   8.0   0.8  53.0   \n",
       "2           2     Akali  500.0  105  8.0   0.5  200.0   0.0  50.0   0.0  62.0   \n",
       "\n",
       "   AD+     AS    AS+    AR   AR+    MR   MR+   MS  Range                Title  \\\n",
       "0  5.0  0.651  +2.5%  38.0  3.25  32.0  1.25  345    175     the Darkin Blade   \n",
       "1  3.0  0.668    +2%  21.0  3.50  30.0  0.50  330    550  the Nine-Tailed Fox   \n",
       "2  3.3  0.625  +3.2%  23.0  3.50  37.0  1.25  345    125   the Rogue Assassin   \n",
       "\n",
       "  Release date Last changed    Class(es)          Legacy  Position(s)  \\\n",
       "0   2013-06-13        V11.2   Juggernaut    Fighter Tank   Top Middle   \n",
       "1   2011-12-14       V11.11        Burst   Mage Assassin       Middle   \n",
       "2   2010-05-11       V11.14     Assassin        Assassin   Top Middle   \n",
       "\n",
       "                  Resource Range type Adaptive type   Store price  Crafting  \\\n",
       "0   Manaless ( Blood Well)      Melee      Physical   4800 |  880   +  2880   \n",
       "1                     Mana     Ranged         Magic   3150 |  790   +  1890   \n",
       "2                   Energy      Melee      Physical   3150 |  790   +  1890   \n",
       "\n",
       "                                               Style              Passive  \\\n",
       "0     Damage3 Toughness3 Control2 Mobility2 Utili...  Deathbringer Stance   \n",
       "1     Damage3 Toughness1 Control2 Mobility3 Utili...        Essence Theft   \n",
       "2     Damage3 Toughness1 Control1 Mobility3 Utili...      Assassin's Mark   \n",
       "\n",
       "             Q Spell          W Spell        E Spell           Ultimate  \\\n",
       "0   The Darkin Blade  Infernal Chains    Umbral Dash        World Ender   \n",
       "1   Orb of Deception         Fox-Fire          Charm        Spirit Rush   \n",
       "2  Five Point Strike  Twilight Shroud  Shuriken Flip  Perfect Execution   \n",
       "\n",
       "  Popularity Winrate BanRate Mainedby  PentaKill    Gold  Minions  Wards  \\\n",
       "0       5.2%   50.4%    2.5%     0.6%     0.0017  10,804    164.9    7.7   \n",
       "1       5.2%   51.6%    1.1%     0.6%     0.0003  10,858    160.3    9.8   \n",
       "2       5.9%   46.5%    7.0%     0.6%     0.0015  10,786    151.1    7.9   \n",
       "\n",
       "  DamageDealt  KDA_kills  KDA_deaths  KDA_assists  \n",
       "0      19,100        5.7         5.7          6.0  \n",
       "1      19,146        6.2         5.4          7.8  \n",
       "2      19,521        7.5         6.0          5.1  "
      ]
     },
     "execution_count": 66,
     "metadata": {},
     "output_type": "execute_result"
    }
   ],
   "source": [
    "#Primer vistazo a nuestra base de datos extraída de un archivo .csv\n",
    "\n",
    "df_champ = pd.read_csv('../data/archive/lol_champs.csv')\n",
    "\n",
    "df_champ.head(3)"
   ]
  },
  {
   "cell_type": "code",
   "execution_count": 77,
   "id": "5e6876f1",
   "metadata": {},
   "outputs": [],
   "source": [
    "import pylab as plt\n",
    "import seaborn as sns\n",
    "def check_nan(df: pd.DataFrame) -> None:\n",
    "    \n",
    "    \n",
    "    \n",
    "    nan_cols = df.isna().mean()  * 100  \n",
    "\n",
    "    display(f'N nan cols: {len(nan_cols[nan_cols>0])}')\n",
    "    display(nan_cols[nan_cols>0])\n",
    "    \n",
    "\n",
    "    plt.figure(figsize=(5, 3))  \n",
    "\n",
    "    sns.heatmap(df.isna(),   \n",
    "                yticklabels=False,\n",
    "                cmap='viridis',\n",
    "                cbar=False\n",
    "               )\n",
    "\n",
    "    plt.show();"
   ]
  },
  {
   "cell_type": "code",
   "execution_count": 78,
   "id": "ab13586f",
   "metadata": {},
   "outputs": [
    {
     "data": {
      "text/plain": [
       "'N nan cols: 0'"
      ]
     },
     "metadata": {},
     "output_type": "display_data"
    },
    {
     "data": {
      "text/plain": [
       "Series([], dtype: float64)"
      ]
     },
     "metadata": {},
     "output_type": "display_data"
    },
    {
     "data": {
      "image/png": "[encoded data removed]",
      "text/plain": [
       "<Figure size 500x300 with 1 Axes>"
      ]
     },
     "metadata": {},
     "output_type": "display_data"
    }
   ],
   "source": [
    "# Comprobamos si hay nulos\n",
    "\n",
    "check_nan(df_champ)"
   ]
  },
  {
   "cell_type": "code",
   "execution_count": 69,
   "id": "c31a5d67",
   "metadata": {
    "scrolled": false
   },
   "outputs": [
    {
     "data": {
      "text/html": [
       "<div>\n",
       "<style scoped>\n",
       "    .dataframe tbody tr th:only-of-type {\n",
       "        vertical-align: middle;\n",
       "    }\n",
       "\n",
       "    .dataframe tbody tr th {\n",
       "        vertical-align: top;\n",
       "    }\n",
       "\n",
       "    .dataframe thead th {\n",
       "        text-align: right;\n",
       "    }\n",
       "</style>\n",
       "<table border=\"1\" class=\"dataframe\">\n",
       "  <thead>\n",
       "    <tr style=\"text-align: right;\">\n",
       "      <th></th>\n",
       "      <th>Unnamed: 0</th>\n",
       "      <th>Champions</th>\n",
       "      <th>HP</th>\n",
       "      <th>HP5+</th>\n",
       "      <th>MP</th>\n",
       "      <th>AD</th>\n",
       "      <th>AS</th>\n",
       "      <th>AR</th>\n",
       "      <th>MR</th>\n",
       "      <th>MS</th>\n",
       "      <th>Range</th>\n",
       "      <th>Title</th>\n",
       "      <th>Class(es)</th>\n",
       "      <th>Legacy</th>\n",
       "      <th>Position(s)</th>\n",
       "      <th>Resource</th>\n",
       "      <th>Range type</th>\n",
       "      <th>Adaptive type</th>\n",
       "      <th>Passive</th>\n",
       "      <th>Q Spell</th>\n",
       "      <th>W Spell</th>\n",
       "      <th>E Spell</th>\n",
       "      <th>Ultimate</th>\n",
       "      <th>Popularity</th>\n",
       "      <th>Winrate</th>\n",
       "      <th>BanRate</th>\n",
       "    </tr>\n",
       "  </thead>\n",
       "  <tbody>\n",
       "    <tr>\n",
       "      <th>0</th>\n",
       "      <td>0</td>\n",
       "      <td>Aatrox</td>\n",
       "      <td>580.0</td>\n",
       "      <td>1.00</td>\n",
       "      <td>0.0</td>\n",
       "      <td>60.0</td>\n",
       "      <td>0.651</td>\n",
       "      <td>38.0</td>\n",
       "      <td>32.0</td>\n",
       "      <td>345</td>\n",
       "      <td>175</td>\n",
       "      <td>the Darkin Blade</td>\n",
       "      <td>Juggernaut</td>\n",
       "      <td>Fighter Tank</td>\n",
       "      <td>Top Middle</td>\n",
       "      <td>Manaless ( Blood Well)</td>\n",
       "      <td>Melee</td>\n",
       "      <td>Physical</td>\n",
       "      <td>Deathbringer Stance</td>\n",
       "      <td>The Darkin Blade</td>\n",
       "      <td>Infernal Chains</td>\n",
       "      <td>Umbral Dash</td>\n",
       "      <td>World Ender</td>\n",
       "      <td>5.2%</td>\n",
       "      <td>50.4%</td>\n",
       "      <td>2.5%</td>\n",
       "    </tr>\n",
       "    <tr>\n",
       "      <th>1</th>\n",
       "      <td>1</td>\n",
       "      <td>Ahri</td>\n",
       "      <td>526.0</td>\n",
       "      <td>0.60</td>\n",
       "      <td>418.0</td>\n",
       "      <td>53.0</td>\n",
       "      <td>0.668</td>\n",
       "      <td>21.0</td>\n",
       "      <td>30.0</td>\n",
       "      <td>330</td>\n",
       "      <td>550</td>\n",
       "      <td>the Nine-Tailed Fox</td>\n",
       "      <td>Burst</td>\n",
       "      <td>Mage Assassin</td>\n",
       "      <td>Middle</td>\n",
       "      <td>Mana</td>\n",
       "      <td>Ranged</td>\n",
       "      <td>Magic</td>\n",
       "      <td>Essence Theft</td>\n",
       "      <td>Orb of Deception</td>\n",
       "      <td>Fox-Fire</td>\n",
       "      <td>Charm</td>\n",
       "      <td>Spirit Rush</td>\n",
       "      <td>5.2%</td>\n",
       "      <td>51.6%</td>\n",
       "      <td>1.1%</td>\n",
       "    </tr>\n",
       "    <tr>\n",
       "      <th>2</th>\n",
       "      <td>2</td>\n",
       "      <td>Akali</td>\n",
       "      <td>500.0</td>\n",
       "      <td>0.50</td>\n",
       "      <td>200.0</td>\n",
       "      <td>62.0</td>\n",
       "      <td>0.625</td>\n",
       "      <td>23.0</td>\n",
       "      <td>37.0</td>\n",
       "      <td>345</td>\n",
       "      <td>125</td>\n",
       "      <td>the Rogue Assassin</td>\n",
       "      <td>Assassin</td>\n",
       "      <td>Assassin</td>\n",
       "      <td>Top Middle</td>\n",
       "      <td>Energy</td>\n",
       "      <td>Melee</td>\n",
       "      <td>Physical</td>\n",
       "      <td>Assassin's Mark</td>\n",
       "      <td>Five Point Strike</td>\n",
       "      <td>Twilight Shroud</td>\n",
       "      <td>Shuriken Flip</td>\n",
       "      <td>Perfect Execution</td>\n",
       "      <td>5.9%</td>\n",
       "      <td>46.5%</td>\n",
       "      <td>7.0%</td>\n",
       "    </tr>\n",
       "    <tr>\n",
       "      <th>3</th>\n",
       "      <td>3</td>\n",
       "      <td>Akshan</td>\n",
       "      <td>560.0</td>\n",
       "      <td>0.65</td>\n",
       "      <td>350.0</td>\n",
       "      <td>52.0</td>\n",
       "      <td>0.638</td>\n",
       "      <td>26.0</td>\n",
       "      <td>30.0</td>\n",
       "      <td>330</td>\n",
       "      <td>500</td>\n",
       "      <td>the Rogue Sentinel</td>\n",
       "      <td>Marksman</td>\n",
       "      <td>Marksman Assassin</td>\n",
       "      <td>Middle</td>\n",
       "      <td>Mana</td>\n",
       "      <td>Ranged</td>\n",
       "      <td>Physical</td>\n",
       "      <td>Dirty Fighting</td>\n",
       "      <td>Avengerang</td>\n",
       "      <td>Going Rogue</td>\n",
       "      <td>Heroic Swing</td>\n",
       "      <td>Comeuppance</td>\n",
       "      <td>9.7%</td>\n",
       "      <td>50.1%</td>\n",
       "      <td>33.4%</td>\n",
       "    </tr>\n",
       "    <tr>\n",
       "      <th>4</th>\n",
       "      <td>4</td>\n",
       "      <td>Alistar</td>\n",
       "      <td>600.0</td>\n",
       "      <td>0.85</td>\n",
       "      <td>350.0</td>\n",
       "      <td>62.0</td>\n",
       "      <td>0.625</td>\n",
       "      <td>44.0</td>\n",
       "      <td>32.0</td>\n",
       "      <td>330</td>\n",
       "      <td>125</td>\n",
       "      <td>the Minotaur</td>\n",
       "      <td>Vanguard</td>\n",
       "      <td>Tank Support</td>\n",
       "      <td>Support</td>\n",
       "      <td>Mana</td>\n",
       "      <td>Melee</td>\n",
       "      <td>Magic</td>\n",
       "      <td>Triumphant Roar</td>\n",
       "      <td>Pulverize</td>\n",
       "      <td>Headbutt</td>\n",
       "      <td>Trample</td>\n",
       "      <td>Unbreakable Will</td>\n",
       "      <td>5.7%</td>\n",
       "      <td>49.8%</td>\n",
       "      <td>1.8%</td>\n",
       "    </tr>\n",
       "  </tbody>\n",
       "</table>\n",
       "</div>"
      ],
      "text/plain": [
       "   Unnamed: 0 Champions     HP  HP5+     MP    AD     AS    AR    MR   MS  \\\n",
       "0           0    Aatrox  580.0  1.00    0.0  60.0  0.651  38.0  32.0  345   \n",
       "1           1      Ahri  526.0  0.60  418.0  53.0  0.668  21.0  30.0  330   \n",
       "2           2     Akali  500.0  0.50  200.0  62.0  0.625  23.0  37.0  345   \n",
       "3           3    Akshan  560.0  0.65  350.0  52.0  0.638  26.0  30.0  330   \n",
       "4           4   Alistar  600.0  0.85  350.0  62.0  0.625  44.0  32.0  330   \n",
       "\n",
       "   Range                Title    Class(es)              Legacy  Position(s)  \\\n",
       "0    175     the Darkin Blade   Juggernaut        Fighter Tank   Top Middle   \n",
       "1    550  the Nine-Tailed Fox        Burst       Mage Assassin       Middle   \n",
       "2    125   the Rogue Assassin     Assassin            Assassin   Top Middle   \n",
       "3    500   the Rogue Sentinel     Marksman   Marksman Assassin       Middle   \n",
       "4    125         the Minotaur     Vanguard        Tank Support      Support   \n",
       "\n",
       "                  Resource Range type Adaptive type              Passive  \\\n",
       "0   Manaless ( Blood Well)      Melee      Physical  Deathbringer Stance   \n",
       "1                     Mana     Ranged         Magic        Essence Theft   \n",
       "2                   Energy      Melee      Physical      Assassin's Mark   \n",
       "3                     Mana     Ranged      Physical       Dirty Fighting   \n",
       "4                     Mana      Melee         Magic      Triumphant Roar   \n",
       "\n",
       "             Q Spell          W Spell        E Spell           Ultimate  \\\n",
       "0   The Darkin Blade  Infernal Chains    Umbral Dash        World Ender   \n",
       "1   Orb of Deception         Fox-Fire          Charm        Spirit Rush   \n",
       "2  Five Point Strike  Twilight Shroud  Shuriken Flip  Perfect Execution   \n",
       "3         Avengerang      Going Rogue   Heroic Swing        Comeuppance   \n",
       "4          Pulverize         Headbutt        Trample   Unbreakable Will   \n",
       "\n",
       "  Popularity Winrate BanRate  \n",
       "0       5.2%   50.4%    2.5%  \n",
       "1       5.2%   51.6%    1.1%  \n",
       "2       5.9%   46.5%    7.0%  \n",
       "3       9.7%   50.1%   33.4%  \n",
       "4       5.7%   49.8%    1.8%  "
      ]
     },
     "execution_count": 69,
     "metadata": {},
     "output_type": "execute_result"
    }
   ],
   "source": [
    "# Eliminamos algunas columnas que no nos interesan de manera que nuestro df sea más manejable\n",
    "\n",
    "df_champ = df_champ.drop(columns=['HP+', 'HP5', 'MP+', 'MP5', 'MP5+', 'AD+', 'AS+', 'AR+', 'MR+', 'Release date', 'Last changed', 'Store price', 'Crafting', 'Style', 'Mainedby', 'PentaKill', 'Gold', 'Minions', 'Wards', 'DamageDealt', 'KDA_kills', 'KDA_deaths', 'KDA_assists'])\n",
    "df_champ.head()"
   ]
  },
  {
   "cell_type": "code",
   "execution_count": 70,
   "id": "458e0a83",
   "metadata": {},
   "outputs": [],
   "source": [
    "# Cambiamos el nombre de la primera columna, la cual nos servirá de ID\n",
    "\n",
    "df_champ.rename(columns={'Unnamed: 0': 'champ_id'}, inplace=True)"
   ]
  },
  {
   "cell_type": "code",
   "execution_count": null,
   "id": "88498e5a",
   "metadata": {},
   "outputs": [],
   "source": [
    "# En este punto, trataremos de enriquecer nuestro data frame a través del scarpeo."
   ]
  },
  {
   "cell_type": "markdown",
   "id": "c1a5ceea",
   "metadata": {},
   "source": [
    "**SCRAPEANDO RUNAS.RUN**"
   ]
  },
  {
   "cell_type": "code",
   "execution_count": null,
   "id": "457428e1",
   "metadata": {},
   "outputs": [],
   "source": [
    "# Scrapeamos la web runas.run para completar información en nuestro df."
   ]
  },
  {
   "cell_type": "code",
   "execution_count": 79,
   "id": "563cbd1d",
   "metadata": {},
   "outputs": [],
   "source": [
    "# Inicializamos el driver para obtener los enlaces de todas las sub-páginas de las cuales queremos recoger los datos.\n",
    "\n",
    "url = 'https://www.runas.run/'\n",
    "driver=webdriver.Chrome(PATH)\n",
    "driver.get(url)"
   ]
  },
  {
   "cell_type": "code",
   "execution_count": 80,
   "id": "a27f77f9",
   "metadata": {},
   "outputs": [],
   "source": [
    "# Mediante el siguiente bucle obtenemos los enlaces a scrapear.\n",
    "links_runas = [driver.find_elements(By.TAG_NAME, 'a')[i].get_attribute('href') for i in range(len(driver.find_elements(By.TAG_NAME, 'a')))]\n"
   ]
  },
  {
   "cell_type": "code",
   "execution_count": 81,
   "id": "005a0853",
   "metadata": {},
   "outputs": [],
   "source": [
    "# Limpiamos nuestra lista de enlaces, para quedarnos con los válidos.\n",
    "\n",
    "links_runas = links_runas[67:-5]\n",
    "links_runas_clean = [e for e in links_runas if 'corki' not in e]\n",
    "links_runas_clean2 = [e for e in links_runas_clean if 'neeko' not in e]\n",
    "links_runas_clean3 = [e for e in links_runas_clean2 if 'skarner' not in e]"
   ]
  },
  {
   "cell_type": "code",
   "execution_count": 84,
   "id": "6e4fc345",
   "metadata": {},
   "outputs": [],
   "source": [
    "import multiprocessing as mp\n",
    "from multiprocessing import get_context\n",
    "from funcion import *                \n",
    "\n",
    "pool = mp.Pool(mp.cpu_count()) "
   ]
  },
  {
   "cell_type": "code",
   "execution_count": 85,
   "id": "e7ed895e",
   "metadata": {},
   "outputs": [
    {
     "ename": "WebDriverException",
     "evalue": "Message: unknown error: net::ERR_NAME_NOT_RESOLVED\n  (Session info: chrome=109.0.5414.119)\nStacktrace:\n0   chromedriver                        0x0000000103992fa8 chromedriver + 4886440\n1   chromedriver                        0x0000000103910643 chromedriver + 4351555\n2   chromedriver                        0x000000010355eb27 chromedriver + 477991\n3   chromedriver                        0x0000000103556642 chromedriver + 443970\n4   chromedriver                        0x0000000103547ead chromedriver + 384685\n5   chromedriver                        0x0000000103549845 chromedriver + 391237\n6   chromedriver                        0x00000001035481dd chromedriver + 385501\n7   chromedriver                        0x0000000103546f6f chromedriver + 380783\n8   chromedriver                        0x0000000103546de0 chromedriver + 380384\n9   chromedriver                        0x0000000103545532 chromedriver + 374066\n10  chromedriver                        0x00000001035458f4 chromedriver + 375028\n11  chromedriver                        0x0000000103560f48 chromedriver + 487240\n12  chromedriver                        0x00000001035e4d51 chromedriver + 1027409\n13  chromedriver                        0x00000001035c95d2 chromedriver + 914898\n14  chromedriver                        0x00000001035e45fe chromedriver + 1025534\n15  chromedriver                        0x00000001035c93a3 chromedriver + 914339\n16  chromedriver                        0x000000010359357f chromedriver + 693631\n17  chromedriver                        0x0000000103594b1e chromedriver + 699166\n18  chromedriver                        0x000000010395fb9e chromedriver + 4676510\n19  chromedriver                        0x000000010396491e chromedriver + 4696350\n20  chromedriver                        0x000000010396c19f chromedriver + 4727199\n21  chromedriver                        0x000000010396581a chromedriver + 4700186\n22  chromedriver                        0x0000000103938a62 chromedriver + 4516450\n23  chromedriver                        0x00000001039848c8 chromedriver + 4827336\n24  chromedriver                        0x0000000103984a45 chromedriver + 4827717\n25  chromedriver                        0x000000010399a7ef chromedriver + 4917231\n26  libsystem_pthread.dylib             0x00007fff208418fc _pthread_start + 224\n27  libsystem_pthread.dylib             0x00007fff2083d443 thread_start + 15\n",
     "output_type": "error",
     "traceback": [
      "\u001b[0;31m---------------------------------------------------------------------------\u001b[0m",
      "\u001b[0;31mRemoteTraceback\u001b[0m                           Traceback (most recent call last)",
      "\u001b[0;31mRemoteTraceback\u001b[0m: \n\"\"\"\nTraceback (most recent call last):\n  File \"/Users/Pedro/opt/anaconda3/lib/python3.9/multiprocessing/pool.py\", line 125, in worker\n    result = (True, func(*args, **kwds))\n  File \"/Users/Pedro/opt/anaconda3/lib/python3.9/multiprocessing/pool.py\", line 48, in mapstar\n    return list(map(*args))\n  File \"/Users/Pedro/Desktop/ironhack/proyectos/ETL-Project/src/funcion.py\", line 12, in extraer_datos\n    driver.get(url)\n  File \"/Users/Pedro/opt/anaconda3/lib/python3.9/site-packages/selenium/webdriver/remote/webdriver.py\", line 449, in get\n    self.execute(Command.GET, {\"url\": url})\n  File \"/Users/Pedro/opt/anaconda3/lib/python3.9/site-packages/selenium/webdriver/remote/webdriver.py\", line 440, in execute\n    self.error_handler.check_response(response)\n  File \"/Users/Pedro/opt/anaconda3/lib/python3.9/site-packages/selenium/webdriver/remote/errorhandler.py\", line 245, in check_response\n    raise exception_class(message, screen, stacktrace)\nselenium.common.exceptions.WebDriverException: Message: unknown error: net::ERR_NAME_NOT_RESOLVED\n  (Session info: chrome=109.0.5414.119)\nStacktrace:\n0   chromedriver                        0x0000000103992fa8 chromedriver + 4886440\n1   chromedriver                        0x0000000103910643 chromedriver + 4351555\n2   chromedriver                        0x000000010355eb27 chromedriver + 477991\n3   chromedriver                        0x0000000103556642 chromedriver + 443970\n4   chromedriver                        0x0000000103547ead chromedriver + 384685\n5   chromedriver                        0x0000000103549845 chromedriver + 391237\n6   chromedriver                        0x00000001035481dd chromedriver + 385501\n7   chromedriver                        0x0000000103546f6f chromedriver + 380783\n8   chromedriver                        0x0000000103546de0 chromedriver + 380384\n9   chromedriver                        0x0000000103545532 chromedriver + 374066\n10  chromedriver                        0x00000001035458f4 chromedriver + 375028\n11  chromedriver                        0x0000000103560f48 chromedriver + 487240\n12  chromedriver                        0x00000001035e4d51 chromedriver + 1027409\n13  chromedriver                        0x00000001035c95d2 chromedriver + 914898\n14  chromedriver                        0x00000001035e45fe chromedriver + 1025534\n15  chromedriver                        0x00000001035c93a3 chromedriver + 914339\n16  chromedriver                        0x000000010359357f chromedriver + 693631\n17  chromedriver                        0x0000000103594b1e chromedriver + 699166\n18  chromedriver                        0x000000010395fb9e chromedriver + 4676510\n19  chromedriver                        0x000000010396491e chromedriver + 4696350\n20  chromedriver                        0x000000010396c19f chromedriver + 4727199\n21  chromedriver                        0x000000010396581a chromedriver + 4700186\n22  chromedriver                        0x0000000103938a62 chromedriver + 4516450\n23  chromedriver                        0x00000001039848c8 chromedriver + 4827336\n24  chromedriver                        0x0000000103984a45 chromedriver + 4827717\n25  chromedriver                        0x000000010399a7ef chromedriver + 4917231\n26  libsystem_pthread.dylib             0x00007fff208418fc _pthread_start + 224\n27  libsystem_pthread.dylib             0x00007fff2083d443 thread_start + 15\n\n\"\"\"",
      "\nThe above exception was the direct cause of the following exception:\n",
      "\u001b[0;31mWebDriverException\u001b[0m                        Traceback (most recent call last)",
      "\u001b[0;32m/var/folders/_n/g7dsgr5d6hs1plzfmyy449980000gn/T/ipykernel_8807/1744902977.py\u001b[0m in \u001b[0;36m<module>\u001b[0;34m\u001b[0m\n\u001b[0;32m----> 1\u001b[0;31m \u001b[0mdata_champs\u001b[0m \u001b[0;34m=\u001b[0m \u001b[0mpool\u001b[0m\u001b[0;34m.\u001b[0m\u001b[0mmap\u001b[0m\u001b[0;34m(\u001b[0m\u001b[0mextraer_datos\u001b[0m\u001b[0;34m,\u001b[0m \u001b[0mlinks_runas_clean3\u001b[0m\u001b[0;34m)\u001b[0m\u001b[0;34m\u001b[0m\u001b[0;34m\u001b[0m\u001b[0m\n\u001b[0m\u001b[1;32m      2\u001b[0m \u001b[0;34m\u001b[0m\u001b[0m\n",
      "\u001b[0;32m~/opt/anaconda3/lib/python3.9/multiprocessing/pool.py\u001b[0m in \u001b[0;36mmap\u001b[0;34m(self, func, iterable, chunksize)\u001b[0m\n\u001b[1;32m    362\u001b[0m         \u001b[0;32min\u001b[0m \u001b[0ma\u001b[0m \u001b[0mlist\u001b[0m \u001b[0mthat\u001b[0m \u001b[0;32mis\u001b[0m \u001b[0mreturned\u001b[0m\u001b[0;34m.\u001b[0m\u001b[0;34m\u001b[0m\u001b[0;34m\u001b[0m\u001b[0m\n\u001b[1;32m    363\u001b[0m         '''\n\u001b[0;32m--> 364\u001b[0;31m         \u001b[0;32mreturn\u001b[0m \u001b[0mself\u001b[0m\u001b[0;34m.\u001b[0m\u001b[0m_map_async\u001b[0m\u001b[0;34m(\u001b[0m\u001b[0mfunc\u001b[0m\u001b[0;34m,\u001b[0m \u001b[0miterable\u001b[0m\u001b[0;34m,\u001b[0m \u001b[0mmapstar\u001b[0m\u001b[0;34m,\u001b[0m \u001b[0mchunksize\u001b[0m\u001b[0;34m)\u001b[0m\u001b[0;34m.\u001b[0m\u001b[0mget\u001b[0m\u001b[0;34m(\u001b[0m\u001b[0;34m)\u001b[0m\u001b[0;34m\u001b[0m\u001b[0;34m\u001b[0m\u001b[0m\n\u001b[0m\u001b[1;32m    365\u001b[0m \u001b[0;34m\u001b[0m\u001b[0m\n\u001b[1;32m    366\u001b[0m     \u001b[0;32mdef\u001b[0m \u001b[0mstarmap\u001b[0m\u001b[0;34m(\u001b[0m\u001b[0mself\u001b[0m\u001b[0;34m,\u001b[0m \u001b[0mfunc\u001b[0m\u001b[0;34m,\u001b[0m \u001b[0miterable\u001b[0m\u001b[0;34m,\u001b[0m \u001b[0mchunksize\u001b[0m\u001b[0;34m=\u001b[0m\u001b[0;32mNone\u001b[0m\u001b[0;34m)\u001b[0m\u001b[0;34m:\u001b[0m\u001b[0;34m\u001b[0m\u001b[0;34m\u001b[0m\u001b[0m\n",
      "\u001b[0;32m~/opt/anaconda3/lib/python3.9/multiprocessing/pool.py\u001b[0m in \u001b[0;36mget\u001b[0;34m(self, timeout)\u001b[0m\n\u001b[1;32m    769\u001b[0m             \u001b[0;32mreturn\u001b[0m \u001b[0mself\u001b[0m\u001b[0;34m.\u001b[0m\u001b[0m_value\u001b[0m\u001b[0;34m\u001b[0m\u001b[0;34m\u001b[0m\u001b[0m\n\u001b[1;32m    770\u001b[0m         \u001b[0;32melse\u001b[0m\u001b[0;34m:\u001b[0m\u001b[0;34m\u001b[0m\u001b[0;34m\u001b[0m\u001b[0m\n\u001b[0;32m--> 771\u001b[0;31m             \u001b[0;32mraise\u001b[0m \u001b[0mself\u001b[0m\u001b[0;34m.\u001b[0m\u001b[0m_value\u001b[0m\u001b[0;34m\u001b[0m\u001b[0;34m\u001b[0m\u001b[0m\n\u001b[0m\u001b[1;32m    772\u001b[0m \u001b[0;34m\u001b[0m\u001b[0m\n\u001b[1;32m    773\u001b[0m     \u001b[0;32mdef\u001b[0m \u001b[0m_set\u001b[0m\u001b[0;34m(\u001b[0m\u001b[0mself\u001b[0m\u001b[0;34m,\u001b[0m \u001b[0mi\u001b[0m\u001b[0;34m,\u001b[0m \u001b[0mobj\u001b[0m\u001b[0;34m)\u001b[0m\u001b[0;34m:\u001b[0m\u001b[0;34m\u001b[0m\u001b[0;34m\u001b[0m\u001b[0m\n",
      "\u001b[0;31mWebDriverException\u001b[0m: Message: unknown error: net::ERR_NAME_NOT_RESOLVED\n  (Session info: chrome=109.0.5414.119)\nStacktrace:\n0   chromedriver                        0x0000000103992fa8 chromedriver + 4886440\n1   chromedriver                        0x0000000103910643 chromedriver + 4351555\n2   chromedriver                        0x000000010355eb27 chromedriver + 477991\n3   chromedriver                        0x0000000103556642 chromedriver + 443970\n4   chromedriver                        0x0000000103547ead chromedriver + 384685\n5   chromedriver                        0x0000000103549845 chromedriver + 391237\n6   chromedriver                        0x00000001035481dd chromedriver + 385501\n7   chromedriver                        0x0000000103546f6f chromedriver + 380783\n8   chromedriver                        0x0000000103546de0 chromedriver + 380384\n9   chromedriver                        0x0000000103545532 chromedriver + 374066\n10  chromedriver                        0x00000001035458f4 chromedriver + 375028\n11  chromedriver                        0x0000000103560f48 chromedriver + 487240\n12  chromedriver                        0x00000001035e4d51 chromedriver + 1027409\n13  chromedriver                        0x00000001035c95d2 chromedriver + 914898\n14  chromedriver                        0x00000001035e45fe chromedriver + 1025534\n15  chromedriver                        0x00000001035c93a3 chromedriver + 914339\n16  chromedriver                        0x000000010359357f chromedriver + 693631\n17  chromedriver                        0x0000000103594b1e chromedriver + 699166\n18  chromedriver                        0x000000010395fb9e chromedriver + 4676510\n19  chromedriver                        0x000000010396491e chromedriver + 4696350\n20  chromedriver                        0x000000010396c19f chromedriver + 4727199\n21  chromedriver                        0x000000010396581a chromedriver + 4700186\n22  chromedriver                        0x0000000103938a62 chromedriver + 4516450\n23  chromedriver                        0x00000001039848c8 chromedriver + 4827336\n24  chromedriver                        0x0000000103984a45 chromedriver + 4827717\n25  chromedriver                        0x000000010399a7ef chromedriver + 4917231\n26  libsystem_pthread.dylib             0x00007fff208418fc _pthread_start + 224\n27  libsystem_pthread.dylib             0x00007fff2083d443 thread_start + 15\n"
     ]
    }
   ],
   "source": [
    "data_champs = pool.map(extraer_datos, links_runas_clean3)\n",
    "\n"
   ]
  },
  {
   "cell_type": "code",
   "execution_count": null,
   "id": "430f5f31",
   "metadata": {},
   "outputs": [],
   "source": [
    "data_champs[:5]"
   ]
  },
  {
   "cell_type": "code",
   "execution_count": null,
   "id": "31588149",
   "metadata": {},
   "outputs": [],
   "source": []
  },
  {
   "cell_type": "code",
   "execution_count": null,
   "id": "8dab81fc",
   "metadata": {},
   "outputs": [],
   "source": []
  },
  {
   "cell_type": "code",
   "execution_count": null,
   "id": "67f0f839",
   "metadata": {},
   "outputs": [],
   "source": []
  },
  {
   "cell_type": "code",
   "execution_count": null,
   "id": "2ba03eab",
   "metadata": {},
   "outputs": [],
   "source": []
  },
  {
   "cell_type": "markdown",
   "id": "a62ac73f",
   "metadata": {},
   "source": [
    "**TABLA OBJETOS**"
   ]
  },
  {
   "cell_type": "code",
   "execution_count": 34,
   "id": "5713faa4",
   "metadata": {},
   "outputs": [],
   "source": [
    "url='https://www.mobachampion.com/es/item/'\n",
    "driver=webdriver.Chrome(PATH)\n",
    "driver.get(url)"
   ]
  },
  {
   "cell_type": "code",
   "execution_count": 45,
   "id": "15f4fdd1",
   "metadata": {},
   "outputs": [],
   "source": [
    "data2 = driver.find_elements(By.TAG_NAME, 'td') \n"
   ]
  },
  {
   "cell_type": "code",
   "execution_count": 54,
   "id": "86572f42",
   "metadata": {},
   "outputs": [
    {
     "data": {
      "text/plain": [
       "['Botas', '36.2 %', '2.8 %', 'Amuleto de las hadas', '42.9 %']"
      ]
     },
     "execution_count": 54,
     "metadata": {},
     "output_type": "execute_result"
    }
   ],
   "source": [
    "objeto_winrate3 = [e.text for e in data2 if e.text != '']\n",
    "objeto_winrate3[:5]"
   ]
  },
  {
   "cell_type": "code",
   "execution_count": 53,
   "id": "13789ec6",
   "metadata": {},
   "outputs": [
    {
     "data": {
      "text/plain": [
       "['Botas',\n",
       " 'Amuleto de las hadas',\n",
       " 'Perla de rejuvenecimiento',\n",
       " 'Cinturón de gigante',\n",
       " 'Capa de agilidad']"
      ]
     },
     "execution_count": 53,
     "metadata": {},
     "output_type": "execute_result"
    }
   ],
   "source": [
    "obj_name = objeto_winrate3[::3]\n",
    "obj_name[:5]"
   ]
  },
  {
   "cell_type": "code",
   "execution_count": 55,
   "id": "5ac1a84e",
   "metadata": {},
   "outputs": [
    {
     "data": {
      "text/plain": [
       "['36.2 %', '42.9 %', '45.4 %', '48.3 %', '44.4 %']"
      ]
     },
     "execution_count": 55,
     "metadata": {},
     "output_type": "execute_result"
    }
   ],
   "source": [
    "obj_winrate = objeto_winrate3[1::3]\n",
    "obj_winrate[:5]"
   ]
  },
  {
   "cell_type": "code",
   "execution_count": 57,
   "id": "e5850167",
   "metadata": {},
   "outputs": [
    {
     "data": {
      "text/plain": [
       "['2.8 %', '0.6 %', '0.1 %', '3.7 %', '4.8 %']"
      ]
     },
     "execution_count": 57,
     "metadata": {},
     "output_type": "execute_result"
    }
   ],
   "source": [
    "obj_pickrate = objeto_winrate3[2::3]\n",
    "obj_pickrate[:5]"
   ]
  },
  {
   "cell_type": "code",
   "execution_count": 59,
   "id": "5b8ea967",
   "metadata": {},
   "outputs": [
    {
     "data": {
      "text/plain": [
       "[0, 1, 2, 3, 4]"
      ]
     },
     "execution_count": 59,
     "metadata": {},
     "output_type": "execute_result"
    }
   ],
   "source": [
    "obj_id = [i for i in range(len(obj_name))]\n",
    "obj_id[:5]"
   ]
  },
  {
   "cell_type": "code",
   "execution_count": 61,
   "id": "0a56c2ca",
   "metadata": {},
   "outputs": [],
   "source": [
    "obj_data = {'objeto_id': obj_id,\n",
    "            'objeto':obj_name,\n",
    "            'winrate':obj_winrate,\n",
    "            'pickrate':obj_pickrate}"
   ]
  },
  {
   "cell_type": "code",
   "execution_count": 63,
   "id": "fd65b5a5",
   "metadata": {},
   "outputs": [
    {
     "data": {
      "text/html": [
       "<div>\n",
       "<style scoped>\n",
       "    .dataframe tbody tr th:only-of-type {\n",
       "        vertical-align: middle;\n",
       "    }\n",
       "\n",
       "    .dataframe tbody tr th {\n",
       "        vertical-align: top;\n",
       "    }\n",
       "\n",
       "    .dataframe thead th {\n",
       "        text-align: right;\n",
       "    }\n",
       "</style>\n",
       "<table border=\"1\" class=\"dataframe\">\n",
       "  <thead>\n",
       "    <tr style=\"text-align: right;\">\n",
       "      <th></th>\n",
       "      <th>objeto_id</th>\n",
       "      <th>objeto</th>\n",
       "      <th>winrate</th>\n",
       "      <th>pickrate</th>\n",
       "    </tr>\n",
       "  </thead>\n",
       "  <tbody>\n",
       "    <tr>\n",
       "      <th>0</th>\n",
       "      <td>0</td>\n",
       "      <td>Botas</td>\n",
       "      <td>36.2 %</td>\n",
       "      <td>2.8 %</td>\n",
       "    </tr>\n",
       "    <tr>\n",
       "      <th>1</th>\n",
       "      <td>1</td>\n",
       "      <td>Amuleto de las hadas</td>\n",
       "      <td>42.9 %</td>\n",
       "      <td>0.6 %</td>\n",
       "    </tr>\n",
       "    <tr>\n",
       "      <th>2</th>\n",
       "      <td>2</td>\n",
       "      <td>Perla de rejuvenecimiento</td>\n",
       "      <td>45.4 %</td>\n",
       "      <td>0.1 %</td>\n",
       "    </tr>\n",
       "    <tr>\n",
       "      <th>3</th>\n",
       "      <td>3</td>\n",
       "      <td>Cinturón de gigante</td>\n",
       "      <td>48.3 %</td>\n",
       "      <td>3.7 %</td>\n",
       "    </tr>\n",
       "    <tr>\n",
       "      <th>4</th>\n",
       "      <td>4</td>\n",
       "      <td>Capa de agilidad</td>\n",
       "      <td>44.4 %</td>\n",
       "      <td>4.8 %</td>\n",
       "    </tr>\n",
       "  </tbody>\n",
       "</table>\n",
       "</div>"
      ],
      "text/plain": [
       "   objeto_id                     objeto winrate pickrate\n",
       "0          0                      Botas  36.2 %    2.8 %\n",
       "1          1       Amuleto de las hadas  42.9 %    0.6 %\n",
       "2          2  Perla de rejuvenecimiento  45.4 %    0.1 %\n",
       "3          3        Cinturón de gigante  48.3 %    3.7 %\n",
       "4          4           Capa de agilidad  44.4 %    4.8 %"
      ]
     },
     "execution_count": 63,
     "metadata": {},
     "output_type": "execute_result"
    }
   ],
   "source": [
    "objetos = pd.DataFrame(obj_data)\n",
    "\n",
    "objetos.head()"
   ]
  },
  {
   "cell_type": "code",
   "execution_count": null,
   "id": "c93c7d99",
   "metadata": {},
   "outputs": [],
   "source": []
  }
 ],
 "metadata": {
  "kernelspec": {
   "display_name": "Python 3 (ipykernel)",
   "language": "python",
   "name": "python3"
  },
  "language_info": {
   "codemirror_mode": {
    "name": "ipython",
    "version": 3
   },
   "file_extension": ".py",
   "mimetype": "text/x-python",
   "name": "python",
   "nbconvert_exporter": "python",
   "pygments_lexer": "ipython3",
   "version": "3.9.13"
  }
 },
 "nbformat": 4,
 "nbformat_minor": 5
}
