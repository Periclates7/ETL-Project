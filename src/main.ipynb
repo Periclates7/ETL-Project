{
 "cells": [
  {
   "cell_type": "markdown",
   "id": "a9e1e4cf",
   "metadata": {},
   "source": [
    "# ETL PROJECT -> League of Legends Database 🎮"
   ]
  },
  {
   "cell_type": "code",
   "execution_count": 1,
   "id": "d4aae175",
   "metadata": {},
   "outputs": [],
   "source": [
    "# Importamos todas las librerías y recursos que necesitaremos\n",
    "\n",
    "import numpy as np\n",
    "import pandas as pd\n",
    "import time\n",
    "\n",
    "pd.set_option('display.max_rows', None)\n",
    "pd.set_option('display.max_columns', None)\n",
    "\n",
    "import requests\n",
    "from bs4 import BeautifulSoup\n",
    "\n",
    "from selenium.webdriver.chrome.options import Options\n",
    "from webdriver_manager.chrome import ChromeDriverManager\n",
    "from selenium import webdriver\n",
    "from selenium.webdriver.common.by import By\n",
    "PATH=ChromeDriverManager().install()\n",
    "\n",
    "import warnings\n",
    "warnings.filterwarnings('ignore')\n",
    "\n"
   ]
  },
  {
   "cell_type": "code",
   "execution_count": 82,
   "id": "3fc1641d",
   "metadata": {
    "scrolled": false
   },
   "outputs": [
    {
     "data": {
      "text/html": [
       "<div>\n",
       "<style scoped>\n",
       "    .dataframe tbody tr th:only-of-type {\n",
       "        vertical-align: middle;\n",
       "    }\n",
       "\n",
       "    .dataframe tbody tr th {\n",
       "        vertical-align: top;\n",
       "    }\n",
       "\n",
       "    .dataframe thead th {\n",
       "        text-align: right;\n",
       "    }\n",
       "</style>\n",
       "<table border=\"1\" class=\"dataframe\">\n",
       "  <thead>\n",
       "    <tr style=\"text-align: right;\">\n",
       "      <th></th>\n",
       "      <th>Name</th>\n",
       "      <th>Class</th>\n",
       "      <th>Role</th>\n",
       "      <th>Tier</th>\n",
       "      <th>Score</th>\n",
       "      <th>Trend</th>\n",
       "      <th>Win %</th>\n",
       "      <th>Role %</th>\n",
       "      <th>Pick %</th>\n",
       "      <th>Ban %</th>\n",
       "      <th>KDA</th>\n",
       "    </tr>\n",
       "  </thead>\n",
       "  <tbody>\n",
       "    <tr>\n",
       "      <th>0</th>\n",
       "      <td>Aatrox</td>\n",
       "      <td>Fighter</td>\n",
       "      <td>TOP</td>\n",
       "      <td>A</td>\n",
       "      <td>58.25</td>\n",
       "      <td>6.52</td>\n",
       "      <td>49.97%</td>\n",
       "      <td>94.62%</td>\n",
       "      <td>4.43%</td>\n",
       "      <td>2.03%</td>\n",
       "      <td>1.97</td>\n",
       "    </tr>\n",
       "    <tr>\n",
       "      <th>1</th>\n",
       "      <td>Ahri</td>\n",
       "      <td>Mage</td>\n",
       "      <td>MID</td>\n",
       "      <td>A</td>\n",
       "      <td>53.21</td>\n",
       "      <td>-0.24</td>\n",
       "      <td>49.93%</td>\n",
       "      <td>93.47%</td>\n",
       "      <td>4.62%</td>\n",
       "      <td>1.04%</td>\n",
       "      <td>2.56</td>\n",
       "    </tr>\n",
       "    <tr>\n",
       "      <th>2</th>\n",
       "      <td>Akali</td>\n",
       "      <td>Assassin</td>\n",
       "      <td>MID</td>\n",
       "      <td>S</td>\n",
       "      <td>65.30</td>\n",
       "      <td>6.51</td>\n",
       "      <td>48.59%</td>\n",
       "      <td>65.65%</td>\n",
       "      <td>8.16%</td>\n",
       "      <td>12.88%</td>\n",
       "      <td>2.34</td>\n",
       "    </tr>\n",
       "  </tbody>\n",
       "</table>\n",
       "</div>"
      ],
      "text/plain": [
       "     Name     Class Role Tier  Score  Trend   Win %  Role % Pick %   Ban %  \\\n",
       "0  Aatrox   Fighter  TOP    A  58.25   6.52  49.97%  94.62%  4.43%   2.03%   \n",
       "1    Ahri      Mage  MID    A  53.21  -0.24  49.93%  93.47%  4.62%   1.04%   \n",
       "2   Akali  Assassin  MID    S  65.30   6.51  48.59%  65.65%  8.16%  12.88%   \n",
       "\n",
       "    KDA  \n",
       "0  1.97  \n",
       "1  2.56  \n",
       "2  2.34  "
      ]
     },
     "execution_count": 82,
     "metadata": {},
     "output_type": "execute_result"
    }
   ],
   "source": [
    "# Cargamos el archivo csv y echamos el primer vistazo a nuestra base de datos extraída de un archivo .csv\n",
    "\n",
    "df_champs = pd.read_csv('../data/League of Legends Champion Stats 12.1.csv', sep=';')\n",
    "\n",
    "df_champs.head(3)"
   ]
  },
  {
   "cell_type": "code",
   "execution_count": 83,
   "id": "f6b4abe4",
   "metadata": {},
   "outputs": [],
   "source": [
    "# Cambiamos el nombre de la primera columna, la cual nos servirá de ID. Así mismo cambiamos nombres acorde a nuestras\n",
    "# necesidades a la hora de hacer merge.\n",
    "\n",
    "df_champs.rename(columns={'Name':'campeon',\n",
    "                          'Class':'tipo',\n",
    "                          'Role':'rol',\n",
    "                          'Win %':'winrate',\n",
    "                          'Pick %':'pickrate',\n",
    "                          'Ban %':'banrate'\n",
    "                         }, inplace=True)"
   ]
  },
  {
   "cell_type": "code",
   "execution_count": 87,
   "id": "7078e94c",
   "metadata": {},
   "outputs": [
    {
     "data": {
      "text/html": [
       "<div>\n",
       "<style scoped>\n",
       "    .dataframe tbody tr th:only-of-type {\n",
       "        vertical-align: middle;\n",
       "    }\n",
       "\n",
       "    .dataframe tbody tr th {\n",
       "        vertical-align: top;\n",
       "    }\n",
       "\n",
       "    .dataframe thead th {\n",
       "        text-align: right;\n",
       "    }\n",
       "</style>\n",
       "<table border=\"1\" class=\"dataframe\">\n",
       "  <thead>\n",
       "    <tr style=\"text-align: right;\">\n",
       "      <th></th>\n",
       "      <th>campeon</th>\n",
       "      <th>tipo</th>\n",
       "      <th>rol</th>\n",
       "      <th>Tier</th>\n",
       "      <th>Score</th>\n",
       "      <th>Trend</th>\n",
       "      <th>winrate</th>\n",
       "      <th>Role %</th>\n",
       "      <th>pickrate</th>\n",
       "      <th>banrate</th>\n",
       "      <th>KDA</th>\n",
       "    </tr>\n",
       "  </thead>\n",
       "  <tbody>\n",
       "    <tr>\n",
       "      <th>0</th>\n",
       "      <td>Aatrox</td>\n",
       "      <td>Fighter</td>\n",
       "      <td>TOP</td>\n",
       "      <td>A</td>\n",
       "      <td>58.25</td>\n",
       "      <td>6.52</td>\n",
       "      <td>49.97%</td>\n",
       "      <td>94.62%</td>\n",
       "      <td>4.43%</td>\n",
       "      <td>2.03%</td>\n",
       "      <td>1.97</td>\n",
       "    </tr>\n",
       "  </tbody>\n",
       "</table>\n",
       "</div>"
      ],
      "text/plain": [
       "  campeon     tipo  rol Tier  Score  Trend winrate  Role % pickrate banrate  \\\n",
       "0  Aatrox  Fighter  TOP    A  58.25   6.52  49.97%  94.62%    4.43%   2.03%   \n",
       "\n",
       "    KDA  \n",
       "0  1.97  "
      ]
     },
     "execution_count": 87,
     "metadata": {},
     "output_type": "execute_result"
    }
   ],
   "source": [
    "df_champs.head(1)"
   ]
  },
  {
   "cell_type": "code",
   "execution_count": 84,
   "id": "c5404b66",
   "metadata": {},
   "outputs": [],
   "source": [
    "import pylab as plt\n",
    "import seaborn as sns\n",
    "def check_nan(df: pd.DataFrame) -> None:\n",
    "    \n",
    "    \n",
    "    \n",
    "    nan_cols = df.isna().mean()  * 100  \n",
    "\n",
    "    display(f'N nan cols: {len(nan_cols[nan_cols>0])}')\n",
    "    display(nan_cols[nan_cols>0])\n",
    "    \n",
    "\n",
    "    plt.figure(figsize=(5, 3))  \n",
    "\n",
    "    sns.heatmap(df.isna(),   \n",
    "                yticklabels=False,\n",
    "                cmap='viridis',\n",
    "                cbar=False\n",
    "               )\n",
    "\n",
    "    plt.show();\n",
    "    \n",
    "    "
   ]
  },
  {
   "cell_type": "code",
   "execution_count": 85,
   "id": "2ca7647c",
   "metadata": {
    "scrolled": true
   },
   "outputs": [
    {
     "data": {
      "text/plain": [
       "'N nan cols: 1'"
      ]
     },
     "metadata": {},
     "output_type": "display_data"
    },
    {
     "data": {
      "text/plain": [
       "tipo    0.431034\n",
       "dtype: float64"
      ]
     },
     "metadata": {},
     "output_type": "display_data"
    },
    {
     "data": {
      "image/png": "[encoded data removed]",
      "text/plain": [
       "<Figure size 500x300 with 1 Axes>"
      ]
     },
     "metadata": {},
     "output_type": "display_data"
    }
   ],
   "source": [
    "# Comprobamos si hay nulos\n",
    "\n",
    "check_nan(df_champs)"
   ]
  },
  {
   "cell_type": "code",
   "execution_count": 88,
   "id": "2782a828",
   "metadata": {
    "scrolled": false
   },
   "outputs": [
    {
     "data": {
      "text/html": [
       "<div>\n",
       "<style scoped>\n",
       "    .dataframe tbody tr th:only-of-type {\n",
       "        vertical-align: middle;\n",
       "    }\n",
       "\n",
       "    .dataframe tbody tr th {\n",
       "        vertical-align: top;\n",
       "    }\n",
       "\n",
       "    .dataframe thead th {\n",
       "        text-align: right;\n",
       "    }\n",
       "</style>\n",
       "<table border=\"1\" class=\"dataframe\">\n",
       "  <thead>\n",
       "    <tr style=\"text-align: right;\">\n",
       "      <th></th>\n",
       "      <th>campeon</th>\n",
       "      <th>tipo</th>\n",
       "      <th>rol</th>\n",
       "      <th>Tier</th>\n",
       "      <th>winrate</th>\n",
       "      <th>pickrate</th>\n",
       "      <th>banrate</th>\n",
       "      <th>KDA</th>\n",
       "    </tr>\n",
       "  </thead>\n",
       "  <tbody>\n",
       "    <tr>\n",
       "      <th>0</th>\n",
       "      <td>Aatrox</td>\n",
       "      <td>Fighter</td>\n",
       "      <td>TOP</td>\n",
       "      <td>A</td>\n",
       "      <td>49.97%</td>\n",
       "      <td>4.43%</td>\n",
       "      <td>2.03%</td>\n",
       "      <td>1.97</td>\n",
       "    </tr>\n",
       "    <tr>\n",
       "      <th>1</th>\n",
       "      <td>Ahri</td>\n",
       "      <td>Mage</td>\n",
       "      <td>MID</td>\n",
       "      <td>A</td>\n",
       "      <td>49.93%</td>\n",
       "      <td>4.62%</td>\n",
       "      <td>1.04%</td>\n",
       "      <td>2.56</td>\n",
       "    </tr>\n",
       "    <tr>\n",
       "      <th>2</th>\n",
       "      <td>Akali</td>\n",
       "      <td>Assassin</td>\n",
       "      <td>MID</td>\n",
       "      <td>S</td>\n",
       "      <td>48.59%</td>\n",
       "      <td>8.16%</td>\n",
       "      <td>12.88%</td>\n",
       "      <td>2.34</td>\n",
       "    </tr>\n",
       "    <tr>\n",
       "      <th>3</th>\n",
       "      <td>Akali</td>\n",
       "      <td>Assassin</td>\n",
       "      <td>TOP</td>\n",
       "      <td>A</td>\n",
       "      <td>48.57%</td>\n",
       "      <td>4.24%</td>\n",
       "      <td>12.88%</td>\n",
       "      <td>2.04</td>\n",
       "    </tr>\n",
       "    <tr>\n",
       "      <th>4</th>\n",
       "      <td>Akshan</td>\n",
       "      <td>Marksman</td>\n",
       "      <td>MID</td>\n",
       "      <td>S</td>\n",
       "      <td>51.46%</td>\n",
       "      <td>4.83%</td>\n",
       "      <td>21.91%</td>\n",
       "      <td>2.23</td>\n",
       "    </tr>\n",
       "  </tbody>\n",
       "</table>\n",
       "</div>"
      ],
      "text/plain": [
       "  campeon      tipo  rol Tier winrate pickrate banrate   KDA\n",
       "0  Aatrox   Fighter  TOP    A  49.97%    4.43%   2.03%  1.97\n",
       "1    Ahri      Mage  MID    A  49.93%    4.62%   1.04%  2.56\n",
       "2   Akali  Assassin  MID    S  48.59%    8.16%  12.88%  2.34\n",
       "3   Akali  Assassin  TOP    A  48.57%    4.24%  12.88%  2.04\n",
       "4  Akshan  Marksman  MID    S  51.46%    4.83%  21.91%  2.23"
      ]
     },
     "execution_count": 88,
     "metadata": {},
     "output_type": "execute_result"
    }
   ],
   "source": [
    "# Eliminamos algunas columnas que no nos interesan de manera que nuestro df sea más manejable\n",
    "\n",
    "df_champs = df_champs.drop(columns=['Score', 'Trend', 'Role %'])\n",
    "df_champs.head()"
   ]
  },
  {
   "cell_type": "code",
   "execution_count": 8,
   "id": "0e0fcb71",
   "metadata": {},
   "outputs": [],
   "source": [
    "# En este punto, trataremos de enriquecer nuestro data frame a través del scarpeo.\n"
   ]
  },
  {
   "cell_type": "markdown",
   "id": "4c302930",
   "metadata": {},
   "source": [
    "**SCRAPEANDO RUNAS.RUN**"
   ]
  },
  {
   "cell_type": "code",
   "execution_count": 9,
   "id": "f3cb7433",
   "metadata": {},
   "outputs": [],
   "source": [
    "# Scrapeamos la web runas.run para completar información en nuestro df a través de Selenium."
   ]
  },
  {
   "cell_type": "code",
   "execution_count": 10,
   "id": "616d7e7f",
   "metadata": {},
   "outputs": [],
   "source": [
    "# Inicializamos el driver para obtener los enlaces de todas las sub-páginas de las cuales queremos recoger los datos.\n",
    "\n",
    "url = 'https://www.runas.run/'\n",
    "driver=webdriver.Chrome(PATH)\n",
    "driver.get(url)\n",
    "\n"
   ]
  },
  {
   "cell_type": "code",
   "execution_count": 11,
   "id": "371e4a12",
   "metadata": {},
   "outputs": [],
   "source": [
    "# Mediante el siguiente bucle obtenemos los enlaces a scrapear.\n",
    "\n",
    "links_runas = [driver.find_elements(By.TAG_NAME, 'a')[i].get_attribute('href') for i in range(len(driver.find_elements(By.TAG_NAME, 'a')))]\n",
    "driver.quit()"
   ]
  },
  {
   "cell_type": "code",
   "execution_count": 12,
   "id": "a2790016",
   "metadata": {},
   "outputs": [],
   "source": [
    "# Limpiamos nuestra lista de enlaces, para quedarnos con los válidos.\n",
    "\n",
    "links_runas = links_runas[67:-5]\n",
    "links_runas_clean = [e for e in links_runas if 'corki' not in e]\n",
    "links_runas_clean2 = [e for e in links_runas_clean if 'neeko' not in e]\n",
    "links_runas_clean3 = [e for e in links_runas_clean2 if 'skarner' not in e]\n",
    "\n"
   ]
  },
  {
   "cell_type": "code",
   "execution_count": null,
   "id": "532b9927",
   "metadata": {},
   "outputs": [],
   "source": [
    "# Puesto que el proceso es lento y tedioso, aprovechamos todos los recursos de nuestra máquina para \n",
    "# hacerlo más eficiente."
   ]
  },
  {
   "cell_type": "code",
   "execution_count": 21,
   "id": "dcf64c0d",
   "metadata": {},
   "outputs": [],
   "source": [
    "import multiprocessing as mp\n",
    "from multiprocessing import get_context\n",
    "from funcion import *                      # Documento .py externo donde almaceno las funciones para poder hacer el map\n",
    "                                           # RUTA: ETL-Project/src/funcion.py\n",
    "pool = mp.Pool(mp.cpu_count())             # Le decimos a la máquina que utilice todos los núcleos de la CPU.\n",
    "\n"
   ]
  },
  {
   "cell_type": "code",
   "execution_count": 16,
   "id": "cfbfb8d0",
   "metadata": {},
   "outputs": [],
   "source": [
    "# Aplicamos mediante el método map nuestra funcion iterando sobre los links que extraimos previamente.\n",
    "\n",
    "data_champs = pool.map(extraer_datos, links_runas_clean3)"
   ]
  },
  {
   "cell_type": "code",
   "execution_count": 20,
   "id": "a45d062e",
   "metadata": {},
   "outputs": [
    {
     "data": {
      "text/plain": [
       "[{'campeon': 'Aatrox',\n",
       "  'fuerte': 'Gwen Akali Sion Nasus Yorick',\n",
       "  'debil': 'Rengar Jayce Fiora Gnar Shen',\n",
       "  'hechizos': 'Destello Prender',\n",
       "  'obj_ini': 'Espada de Doran Poción de vida',\n",
       "  'item_1': 'Botas blindadas',\n",
       "  'item_2': 'Cuchilla negra',\n",
       "  'item_3': 'Guantelete de hielo',\n",
       "  'item_4': 'Rencor de Serylda',\n",
       "  'item_5': 'Baile de la muerte',\n",
       "  'item_6': 'Ángel de la guarda'},\n",
       " {'campeon': 'Ahri',\n",
       "  'fuerte': 'Azir Akali Ryze Veigar Orianna',\n",
       "  'debil': 'Annie Zoe Fizz Zed Lux',\n",
       "  'hechizos': 'Destello Prender',\n",
       "  'obj_ini': 'Anillo de Doran Poción de vida',\n",
       "  'item_1': 'Tempestad de Luden',\n",
       "  'item_2': 'Botas de hechicero',\n",
       "  'item_3': 'Llamasombría',\n",
       "  'item_4': 'Sombrero mortal de Rabadon',\n",
       "  'item_5': 'Velo del hada de la muerte',\n",
       "  'item_6': 'Reloj de arena de Zhonya'}]"
      ]
     },
     "execution_count": 20,
     "metadata": {},
     "output_type": "execute_result"
    }
   ],
   "source": [
    "data_champs[:2]"
   ]
  },
  {
   "cell_type": "code",
   "execution_count": 19,
   "id": "f41dc377",
   "metadata": {},
   "outputs": [
    {
     "data": {
      "text/html": [
       "<div>\n",
       "<style scoped>\n",
       "    .dataframe tbody tr th:only-of-type {\n",
       "        vertical-align: middle;\n",
       "    }\n",
       "\n",
       "    .dataframe tbody tr th {\n",
       "        vertical-align: top;\n",
       "    }\n",
       "\n",
       "    .dataframe thead th {\n",
       "        text-align: right;\n",
       "    }\n",
       "</style>\n",
       "<table border=\"1\" class=\"dataframe\">\n",
       "  <thead>\n",
       "    <tr style=\"text-align: right;\">\n",
       "      <th></th>\n",
       "      <th>campeon</th>\n",
       "      <th>fuerte</th>\n",
       "      <th>debil</th>\n",
       "      <th>hechizos</th>\n",
       "      <th>obj_ini</th>\n",
       "      <th>item_1</th>\n",
       "      <th>item_2</th>\n",
       "      <th>item_3</th>\n",
       "      <th>item_4</th>\n",
       "      <th>item_5</th>\n",
       "      <th>item_6</th>\n",
       "    </tr>\n",
       "  </thead>\n",
       "  <tbody>\n",
       "    <tr>\n",
       "      <th>0</th>\n",
       "      <td>Aatrox</td>\n",
       "      <td>Gwen Akali Sion Nasus Yorick</td>\n",
       "      <td>Rengar Jayce Fiora Gnar Shen</td>\n",
       "      <td>Destello Prender</td>\n",
       "      <td>Espada de Doran Poción de vida</td>\n",
       "      <td>Botas blindadas</td>\n",
       "      <td>Cuchilla negra</td>\n",
       "      <td>Guantelete de hielo</td>\n",
       "      <td>Rencor de Serylda</td>\n",
       "      <td>Baile de la muerte</td>\n",
       "      <td>Ángel de la guarda</td>\n",
       "    </tr>\n",
       "    <tr>\n",
       "      <th>1</th>\n",
       "      <td>Ahri</td>\n",
       "      <td>Azir Akali Ryze Veigar Orianna</td>\n",
       "      <td>Annie Zoe Fizz Zed Lux</td>\n",
       "      <td>Destello Prender</td>\n",
       "      <td>Anillo de Doran Poción de vida</td>\n",
       "      <td>Tempestad de Luden</td>\n",
       "      <td>Botas de hechicero</td>\n",
       "      <td>Llamasombría</td>\n",
       "      <td>Sombrero mortal de Rabadon</td>\n",
       "      <td>Velo del hada de la muerte</td>\n",
       "      <td>Reloj de arena de Zhonya</td>\n",
       "    </tr>\n",
       "    <tr>\n",
       "      <th>2</th>\n",
       "      <td>Akali</td>\n",
       "      <td>Ekko Viktor Yasuo Vladimir Yone</td>\n",
       "      <td>Annie Jayce Qiyana Zoe Pantheon</td>\n",
       "      <td>Destello Prender</td>\n",
       "      <td>Escudo de Doran Poción de vida</td>\n",
       "      <td>Botas de hechicero</td>\n",
       "      <td>Cintomisil hextech</td>\n",
       "      <td>Llamasombría</td>\n",
       "      <td>Reloj de arena de Zhonya</td>\n",
       "      <td>Sombrero mortal de Rabadon</td>\n",
       "      <td>Bastón del Vacío</td>\n",
       "    </tr>\n",
       "    <tr>\n",
       "      <th>3</th>\n",
       "      <td>Akshan</td>\n",
       "      <td>Azir Yone Orianna Tristana Malzahar</td>\n",
       "      <td>Annie Pantheon Yasuo Vex Anivia</td>\n",
       "      <td>Destello Prender</td>\n",
       "      <td>Espada larga Poción reutilizable</td>\n",
       "      <td>Verdugo de krakens</td>\n",
       "      <td>Botas de mercurio</td>\n",
       "      <td>Final del ingenio</td>\n",
       "      <td>Cañón de fuego rápido</td>\n",
       "      <td>Hoja de furia de Guinsoo</td>\n",
       "      <td>Ángel de la guarda</td>\n",
       "    </tr>\n",
       "    <tr>\n",
       "      <th>4</th>\n",
       "      <td>Alistar</td>\n",
       "      <td>Yuumi Xerath Braum Blitzcrank Pyke</td>\n",
       "      <td>Taric Renata Glasc Rakan Swain Maokai</td>\n",
       "      <td>Destello Prender</td>\n",
       "      <td>Poción de vida Escudo reliquia</td>\n",
       "      <td>Botas de movilidad</td>\n",
       "      <td>Medallón de los Solari de Hierro</td>\n",
       "      <td>Malla de espinas</td>\n",
       "      <td>Piedra de guardianes atenta</td>\n",
       "      <td>Promesa de caballero</td>\n",
       "      <td>Bailarín espectral</td>\n",
       "    </tr>\n",
       "  </tbody>\n",
       "</table>\n",
       "</div>"
      ],
      "text/plain": [
       "   campeon                               fuerte  \\\n",
       "0   Aatrox         Gwen Akali Sion Nasus Yorick   \n",
       "1     Ahri       Azir Akali Ryze Veigar Orianna   \n",
       "2    Akali      Ekko Viktor Yasuo Vladimir Yone   \n",
       "3   Akshan  Azir Yone Orianna Tristana Malzahar   \n",
       "4  Alistar   Yuumi Xerath Braum Blitzcrank Pyke   \n",
       "\n",
       "                                   debil          hechizos  \\\n",
       "0           Rengar Jayce Fiora Gnar Shen  Destello Prender   \n",
       "1                 Annie Zoe Fizz Zed Lux  Destello Prender   \n",
       "2        Annie Jayce Qiyana Zoe Pantheon  Destello Prender   \n",
       "3        Annie Pantheon Yasuo Vex Anivia  Destello Prender   \n",
       "4  Taric Renata Glasc Rakan Swain Maokai  Destello Prender   \n",
       "\n",
       "                            obj_ini              item_1  \\\n",
       "0    Espada de Doran Poción de vida     Botas blindadas   \n",
       "1    Anillo de Doran Poción de vida  Tempestad de Luden   \n",
       "2    Escudo de Doran Poción de vida  Botas de hechicero   \n",
       "3  Espada larga Poción reutilizable  Verdugo de krakens   \n",
       "4    Poción de vida Escudo reliquia  Botas de movilidad   \n",
       "\n",
       "                             item_2               item_3  \\\n",
       "0                    Cuchilla negra  Guantelete de hielo   \n",
       "1                Botas de hechicero         Llamasombría   \n",
       "2                Cintomisil hextech         Llamasombría   \n",
       "3                 Botas de mercurio    Final del ingenio   \n",
       "4  Medallón de los Solari de Hierro     Malla de espinas   \n",
       "\n",
       "                        item_4                      item_5  \\\n",
       "0            Rencor de Serylda          Baile de la muerte   \n",
       "1   Sombrero mortal de Rabadon  Velo del hada de la muerte   \n",
       "2     Reloj de arena de Zhonya  Sombrero mortal de Rabadon   \n",
       "3        Cañón de fuego rápido    Hoja de furia de Guinsoo   \n",
       "4  Piedra de guardianes atenta        Promesa de caballero   \n",
       "\n",
       "                     item_6  \n",
       "0        Ángel de la guarda  \n",
       "1  Reloj de arena de Zhonya  \n",
       "2          Bastón del Vacío  \n",
       "3        Ángel de la guarda  \n",
       "4        Bailarín espectral  "
      ]
     },
     "execution_count": 19,
     "metadata": {},
     "output_type": "execute_result"
    }
   ],
   "source": [
    "# Creamos un df con nuestros datos para hacer merge más tarde con el principal.\n",
    "\n",
    "df_champs2 = pd.DataFrame(data_champs) \n",
    "df_champs2.head()"
   ]
  },
  {
   "cell_type": "markdown",
   "id": "3ad23bd7",
   "metadata": {},
   "source": [
    "**EXTRACCIÓN DE RUNAS**"
   ]
  },
  {
   "cell_type": "code",
   "execution_count": null,
   "id": "7353b3c6",
   "metadata": {},
   "outputs": [],
   "source": [
    "# Seguiremos un proceso similar al anterior esta vez para obtener la información de configuración de runas de nuestro\n",
    "# personaje.\n",
    "\n",
    "# El método empleado será el scrapeo con BeautifulSoup, ya que selenium no era capaz de sacar el dato.\n",
    "# Una vez más la función a la que recurriremos para ello se encuentra almacenada en el anteriormente \n",
    "# mencionado funciones.py"
   ]
  },
  {
   "cell_type": "code",
   "execution_count": 22,
   "id": "1d3eea79",
   "metadata": {},
   "outputs": [],
   "source": [
    "data_runas = pool.map(extraer_runas, links_runas_clean3)"
   ]
  },
  {
   "cell_type": "code",
   "execution_count": 23,
   "id": "81bb6644",
   "metadata": {
    "scrolled": true
   },
   "outputs": [
    {
     "data": {
      "text/plain": [
       "[{'campeon': 'Aatrox',\n",
       "  'runas': 'Conquistador, Triunfo, Leyenda: Tenacidad, Último esfuerzo, Revestimiento de huesos, Revitalizar, Conquistador,'},\n",
       " {'campeon': 'Ahri',\n",
       "  'runas': 'Electrocutar, Sabor a sangre, Colección de globos oculares, Cazador definitivo, Banda de maná, Trascendencia, Electrocutar,'},\n",
       " {'campeon': 'Akali',\n",
       "  'runas': 'Conquistador, Claridad mental, Leyenda: Tenacidad, Golpe de gracia, Fuerzas renovadas, Sobrecrecimiento, Conquistador,'},\n",
       " {'campeon': 'Akshan',\n",
       "  'runas': 'Ataque intensificado, Claridad mental, Leyenda: Presteza, Golpe de gracia, Golpe de escudo, Revestimiento de huesos, Ataque intensificado,'},\n",
       " {'campeon': 'Alistar',\n",
       "  'runas': 'Reverberacción, Fuente de vida, Revestimiento de huesos, Inquebrantable, Destello hextech, Perspicacia cósmica, Mejora glacial,'}]"
      ]
     },
     "execution_count": 23,
     "metadata": {},
     "output_type": "execute_result"
    }
   ],
   "source": [
    "data_runas[:5]"
   ]
  },
  {
   "cell_type": "code",
   "execution_count": 24,
   "id": "58bb4158",
   "metadata": {},
   "outputs": [
    {
     "data": {
      "text/html": [
       "<div>\n",
       "<style scoped>\n",
       "    .dataframe tbody tr th:only-of-type {\n",
       "        vertical-align: middle;\n",
       "    }\n",
       "\n",
       "    .dataframe tbody tr th {\n",
       "        vertical-align: top;\n",
       "    }\n",
       "\n",
       "    .dataframe thead th {\n",
       "        text-align: right;\n",
       "    }\n",
       "</style>\n",
       "<table border=\"1\" class=\"dataframe\">\n",
       "  <thead>\n",
       "    <tr style=\"text-align: right;\">\n",
       "      <th></th>\n",
       "      <th>campeon</th>\n",
       "      <th>runas</th>\n",
       "    </tr>\n",
       "  </thead>\n",
       "  <tbody>\n",
       "    <tr>\n",
       "      <th>0</th>\n",
       "      <td>Aatrox</td>\n",
       "      <td>Conquistador, Triunfo, Leyenda: Tenacidad, Últ...</td>\n",
       "    </tr>\n",
       "    <tr>\n",
       "      <th>1</th>\n",
       "      <td>Ahri</td>\n",
       "      <td>Electrocutar, Sabor a sangre, Colección de glo...</td>\n",
       "    </tr>\n",
       "    <tr>\n",
       "      <th>2</th>\n",
       "      <td>Akali</td>\n",
       "      <td>Conquistador, Claridad mental, Leyenda: Tenaci...</td>\n",
       "    </tr>\n",
       "    <tr>\n",
       "      <th>3</th>\n",
       "      <td>Akshan</td>\n",
       "      <td>Ataque intensificado, Claridad mental, Leyenda...</td>\n",
       "    </tr>\n",
       "    <tr>\n",
       "      <th>4</th>\n",
       "      <td>Alistar</td>\n",
       "      <td>Reverberacción, Fuente de vida, Revestimiento ...</td>\n",
       "    </tr>\n",
       "  </tbody>\n",
       "</table>\n",
       "</div>"
      ],
      "text/plain": [
       "   campeon                                              runas\n",
       "0   Aatrox  Conquistador, Triunfo, Leyenda: Tenacidad, Últ...\n",
       "1     Ahri  Electrocutar, Sabor a sangre, Colección de glo...\n",
       "2    Akali  Conquistador, Claridad mental, Leyenda: Tenaci...\n",
       "3   Akshan  Ataque intensificado, Claridad mental, Leyenda...\n",
       "4  Alistar  Reverberacción, Fuente de vida, Revestimiento ..."
      ]
     },
     "execution_count": 24,
     "metadata": {},
     "output_type": "execute_result"
    }
   ],
   "source": [
    "df_runas = pd.DataFrame(data_runas)\n",
    "df_runas.head()"
   ]
  },
  {
   "cell_type": "markdown",
   "id": "ba1fd7ca",
   "metadata": {},
   "source": [
    "**SCRAPEO RIOT API**"
   ]
  },
  {
   "cell_type": "code",
   "execution_count": null,
   "id": "04dc1521",
   "metadata": {},
   "outputs": [],
   "source": [
    "# Es interesante incluir en mi base de datos, la rotación de campeones semanales. Es decir, los personajes con los que\n",
    "# es posible jugar sin necesidad de tenerlos comprados."
   ]
  },
  {
   "cell_type": "code",
   "execution_count": 25,
   "id": "3c9ca0b7",
   "metadata": {},
   "outputs": [
    {
     "data": {
      "text/plain": [
       "<Response [200]>"
      ]
     },
     "execution_count": 25,
     "metadata": {},
     "output_type": "execute_result"
    }
   ],
   "source": [
    "# Hacemos la petición a la API a través de este enlace en el que se incluye un token, el cual caducará en 24h.\n",
    "# Esto quiere decir que para mantener actualizada esta parte de la bd, habrá que logearse semanalmente.\n",
    "\n",
    "url = 'https://euw1.api.riotgames.com/lol/platform/v3/champion-rotations?api_key='\n",
    "res = requests.get(url)\n",
    "\n",
    "res"
   ]
  },
  {
   "cell_type": "code",
   "execution_count": 26,
   "id": "6612e97a",
   "metadata": {},
   "outputs": [
    {
     "data": {
      "text/plain": [
       "[10, 11, 40, 54, 85, 91, 102, 107, 126, 143, 200, 245, 246, 518, 523, 895]"
      ]
     },
     "execution_count": 26,
     "metadata": {},
     "output_type": "execute_result"
    }
   ],
   "source": [
    "free_champs = res.json()['freeChampionIds']\n",
    "free_champs"
   ]
  },
  {
   "cell_type": "code",
   "execution_count": null,
   "id": "9228a021",
   "metadata": {},
   "outputs": [],
   "source": [
    "# La anterior lista arroja una serie de identificadores los cuales se relacionan con campeones de nuestro videojuego.\n",
    "# La propia API, no nos da información acerca de esta relación, por lo que habrá que buscarla de manera externa."
   ]
  },
  {
   "cell_type": "code",
   "execution_count": 99,
   "id": "87b658ef",
   "metadata": {},
   "outputs": [],
   "source": [
    "# Creamos una lista con la palabra disponible en el rango de nuestra lista de campeones gratis.\n",
    "\n",
    "disponibilidad = ['disponible' for e in range(len(free_champs))]"
   ]
  },
  {
   "cell_type": "code",
   "execution_count": 100,
   "id": "ad12a481",
   "metadata": {},
   "outputs": [],
   "source": [
    "# Preparamos los datos para convertirlos en un df, pues será una de nuestras tablas en SQL.\n",
    "\n",
    "data_disponibilidad = {'riot_id':free_champs,\n",
    "                       'disponibilidad':disponibilidad}"
   ]
  },
  {
   "cell_type": "code",
   "execution_count": 101,
   "id": "54f4e8af",
   "metadata": {},
   "outputs": [
    {
     "data": {
      "text/html": [
       "<div>\n",
       "<style scoped>\n",
       "    .dataframe tbody tr th:only-of-type {\n",
       "        vertical-align: middle;\n",
       "    }\n",
       "\n",
       "    .dataframe tbody tr th {\n",
       "        vertical-align: top;\n",
       "    }\n",
       "\n",
       "    .dataframe thead th {\n",
       "        text-align: right;\n",
       "    }\n",
       "</style>\n",
       "<table border=\"1\" class=\"dataframe\">\n",
       "  <thead>\n",
       "    <tr style=\"text-align: right;\">\n",
       "      <th></th>\n",
       "      <th>riot_id</th>\n",
       "      <th>disponibilidad</th>\n",
       "    </tr>\n",
       "  </thead>\n",
       "  <tbody>\n",
       "    <tr>\n",
       "      <th>0</th>\n",
       "      <td>10</td>\n",
       "      <td>disponible</td>\n",
       "    </tr>\n",
       "    <tr>\n",
       "      <th>1</th>\n",
       "      <td>11</td>\n",
       "      <td>disponible</td>\n",
       "    </tr>\n",
       "    <tr>\n",
       "      <th>2</th>\n",
       "      <td>40</td>\n",
       "      <td>disponible</td>\n",
       "    </tr>\n",
       "  </tbody>\n",
       "</table>\n",
       "</div>"
      ],
      "text/plain": [
       "   riot_id disponibilidad\n",
       "0       10     disponible\n",
       "1       11     disponible\n",
       "2       40     disponible"
      ]
     },
     "execution_count": 101,
     "metadata": {},
     "output_type": "execute_result"
    }
   ],
   "source": [
    "df_disp = pd.DataFrame(data_disponibilidad)\n",
    "df_disp.head(3)"
   ]
  },
  {
   "cell_type": "code",
   "execution_count": 27,
   "id": "3ba51b72",
   "metadata": {},
   "outputs": [],
   "source": [
    "# Esta URL nos da la info que nos falta. Simplemente hay que limpiarla y filtrarla.\n",
    "\n",
    "url = 'http://ddragon.leagueoflegends.com/cdn/6.24.1/data/en_US/champion.json'\n",
    "\n",
    "res = requests.get(url)"
   ]
  },
  {
   "cell_type": "code",
   "execution_count": 28,
   "id": "7d4e43d6",
   "metadata": {},
   "outputs": [
    {
     "data": {
      "text/plain": [
       "dict_keys(['Aatrox', 'Ahri', 'Akali', 'Alistar', 'Amumu', 'Anivia', 'Annie', 'Ashe', 'AurelionSol', 'Azir', 'Bard', 'Blitzcrank', 'Brand', 'Braum', 'Caitlyn', 'Camille', 'Cassiopeia', 'Chogath', 'Corki', 'Darius', 'Diana', 'Draven', 'DrMundo', 'Ekko', 'Elise', 'Evelynn', 'Ezreal', 'FiddleSticks', 'Fiora', 'Fizz', 'Galio', 'Gangplank', 'Garen', 'Gnar', 'Gragas', 'Graves', 'Hecarim', 'Heimerdinger', 'Illaoi', 'Irelia', 'Ivern', 'Janna', 'JarvanIV', 'Jax', 'Jayce', 'Jhin', 'Jinx', 'Kalista', 'Karma', 'Karthus', 'Kassadin', 'Katarina', 'Kayle', 'Kennen', 'Khazix', 'Kindred', 'Kled', 'KogMaw', 'Leblanc', 'LeeSin', 'Leona', 'Lissandra', 'Lucian', 'Lulu', 'Lux', 'Malphite', 'Malzahar', 'Maokai', 'MasterYi', 'MissFortune', 'MonkeyKing', 'Mordekaiser', 'Morgana', 'Nami', 'Nasus', 'Nautilus', 'Nidalee', 'Nocturne', 'Nunu', 'Olaf', 'Orianna', 'Pantheon', 'Poppy', 'Quinn', 'Rammus', 'RekSai', 'Renekton', 'Rengar', 'Riven', 'Rumble', 'Ryze', 'Sejuani', 'Shaco', 'Shen', 'Shyvana', 'Singed', 'Sion', 'Sivir', 'Skarner', 'Sona', 'Soraka', 'Swain', 'Syndra', 'TahmKench', 'Taliyah', 'Talon', 'Taric', 'Teemo', 'Thresh', 'Tristana', 'Trundle', 'Tryndamere', 'TwistedFate', 'Twitch', 'Udyr', 'Urgot', 'Varus', 'Vayne', 'Veigar', 'Velkoz', 'Vi', 'Viktor', 'Vladimir', 'Volibear', 'Warwick', 'Xerath', 'XinZhao', 'Yasuo', 'Yorick', 'Zac', 'Zed', 'Ziggs', 'Zilean', 'Zyra'])"
      ]
     },
     "execution_count": 28,
     "metadata": {},
     "output_type": "execute_result"
    }
   ],
   "source": [
    "# Nos damos cuenta de que cada key corresponde a un campeon de nuestro juego. \n",
    "\n",
    "dictio = res.json()['data']\n",
    "dictio.keys()"
   ]
  },
  {
   "cell_type": "code",
   "execution_count": 29,
   "id": "7d9cca46",
   "metadata": {},
   "outputs": [
    {
     "data": {
      "text/plain": [
       "{'version': '6.24.1',\n",
       " 'id': 'Aatrox',\n",
       " 'key': '266',\n",
       " 'name': 'Aatrox',\n",
       " 'title': 'the Darkin Blade',\n",
       " 'blurb': \"Aatrox is a legendary warrior, one of only five that remain of an ancient race known as the Darkin. He wields his massive blade with grace and poise, slicing through legions in a style that is hypnotic to behold. With each foe felled, Aatrox's ...\",\n",
       " 'info': {'attack': 8, 'defense': 4, 'magic': 3, 'difficulty': 4},\n",
       " 'image': {'full': 'Aatrox.png',\n",
       "  'sprite': 'champion0.png',\n",
       "  'group': 'champion',\n",
       "  'x': 0,\n",
       "  'y': 0,\n",
       "  'w': 48,\n",
       "  'h': 48},\n",
       " 'tags': ['Fighter', 'Tank'],\n",
       " 'partype': 'BloodWell',\n",
       " 'stats': {'hp': 537.8,\n",
       "  'hpperlevel': 85.0,\n",
       "  'mp': 105.6,\n",
       "  'mpperlevel': 45.0,\n",
       "  'movespeed': 345.0,\n",
       "  'armor': 24.384,\n",
       "  'armorperlevel': 3.8,\n",
       "  'spellblock': 32.1,\n",
       "  'spellblockperlevel': 1.25,\n",
       "  'attackrange': 150.0,\n",
       "  'hpregen': 6.59,\n",
       "  'hpregenperlevel': 0.5,\n",
       "  'mpregen': 0.0,\n",
       "  'mpregenperlevel': 0.0,\n",
       "  'crit': 0.0,\n",
       "  'critperlevel': 0.0,\n",
       "  'attackdamage': 60.376,\n",
       "  'attackdamageperlevel': 3.2,\n",
       "  'attackspeedoffset': -0.04,\n",
       "  'attackspeedperlevel': 3.0}}"
      ]
     },
     "execution_count": 29,
     "metadata": {},
     "output_type": "execute_result"
    }
   ],
   "source": [
    "# Dentro de cada key encontramos el valor que nos interesa, en este caso el valor de la clave 'key'. \n",
    "# Lo extraeremos para cada campeon con su nombre asociado ('id') para poder hacer el merge más tarde.\n",
    "\n",
    "dictio['Aatrox']"
   ]
  },
  {
   "cell_type": "code",
   "execution_count": 31,
   "id": "0ac7a6e7",
   "metadata": {},
   "outputs": [],
   "source": [
    "# Mediante las siguientes lineas de código construimos nuestro df. Una vez más, lo construimos con orientación a \n",
    "# hacer merge con nuestro principal.\n",
    "\n",
    "nombres = [v['id'] for v in dictio.values()]\n",
    "ids = [v['key'] for v in dictio.values()]"
   ]
  },
  {
   "cell_type": "code",
   "execution_count": 32,
   "id": "e5a12b83",
   "metadata": {},
   "outputs": [],
   "source": [
    "data_ids = {'campeon':nombres,\n",
    "            'riot_id':ids}"
   ]
  },
  {
   "cell_type": "code",
   "execution_count": 33,
   "id": "8d7b7e98",
   "metadata": {
    "scrolled": true
   },
   "outputs": [
    {
     "data": {
      "text/html": [
       "<div>\n",
       "<style scoped>\n",
       "    .dataframe tbody tr th:only-of-type {\n",
       "        vertical-align: middle;\n",
       "    }\n",
       "\n",
       "    .dataframe tbody tr th {\n",
       "        vertical-align: top;\n",
       "    }\n",
       "\n",
       "    .dataframe thead th {\n",
       "        text-align: right;\n",
       "    }\n",
       "</style>\n",
       "<table border=\"1\" class=\"dataframe\">\n",
       "  <thead>\n",
       "    <tr style=\"text-align: right;\">\n",
       "      <th></th>\n",
       "      <th>campeon</th>\n",
       "      <th>riot_id</th>\n",
       "    </tr>\n",
       "  </thead>\n",
       "  <tbody>\n",
       "    <tr>\n",
       "      <th>0</th>\n",
       "      <td>Aatrox</td>\n",
       "      <td>266</td>\n",
       "    </tr>\n",
       "    <tr>\n",
       "      <th>1</th>\n",
       "      <td>Ahri</td>\n",
       "      <td>103</td>\n",
       "    </tr>\n",
       "    <tr>\n",
       "      <th>2</th>\n",
       "      <td>Akali</td>\n",
       "      <td>84</td>\n",
       "    </tr>\n",
       "    <tr>\n",
       "      <th>3</th>\n",
       "      <td>Alistar</td>\n",
       "      <td>12</td>\n",
       "    </tr>\n",
       "    <tr>\n",
       "      <th>4</th>\n",
       "      <td>Amumu</td>\n",
       "      <td>32</td>\n",
       "    </tr>\n",
       "  </tbody>\n",
       "</table>\n",
       "</div>"
      ],
      "text/plain": [
       "   campeon riot_id\n",
       "0   Aatrox     266\n",
       "1     Ahri     103\n",
       "2    Akali      84\n",
       "3  Alistar      12\n",
       "4    Amumu      32"
      ]
     },
     "execution_count": 33,
     "metadata": {},
     "output_type": "execute_result"
    }
   ],
   "source": [
    "df_ids = pd.DataFrame(data_ids)\n",
    "df_ids.head()"
   ]
  },
  {
   "cell_type": "code",
   "execution_count": null,
   "id": "ba324318",
   "metadata": {},
   "outputs": [],
   "source": [
    "# Aunque esta información no está del todo actualizada, si que jugará un papel imprescidible en la utilidad \n",
    "# de nuestra bd"
   ]
  },
  {
   "cell_type": "markdown",
   "id": "97277ed0",
   "metadata": {},
   "source": [
    "**CONSTRUCCIÓN TABLA CAMPEONES**"
   ]
  },
  {
   "cell_type": "code",
   "execution_count": null,
   "id": "02a18f3f",
   "metadata": {},
   "outputs": [],
   "source": [
    "# Para contruir nuestro df definitivo y hacerlo operativo, deberemos mergear cada uno de los df que contruimos tanto\n",
    "# del resultado de scrapear webs o Apis, como del archivo .csv"
   ]
  },
  {
   "cell_type": "code",
   "execution_count": 64,
   "id": "0f310af2",
   "metadata": {
    "scrolled": false
   },
   "outputs": [
    {
     "data": {
      "text/html": [
       "<div>\n",
       "<style scoped>\n",
       "    .dataframe tbody tr th:only-of-type {\n",
       "        vertical-align: middle;\n",
       "    }\n",
       "\n",
       "    .dataframe tbody tr th {\n",
       "        vertical-align: top;\n",
       "    }\n",
       "\n",
       "    .dataframe thead th {\n",
       "        text-align: right;\n",
       "    }\n",
       "</style>\n",
       "<table border=\"1\" class=\"dataframe\">\n",
       "  <thead>\n",
       "    <tr style=\"text-align: right;\">\n",
       "      <th></th>\n",
       "      <th>campeon</th>\n",
       "      <th>runas</th>\n",
       "      <th>riot_id</th>\n",
       "    </tr>\n",
       "  </thead>\n",
       "  <tbody>\n",
       "    <tr>\n",
       "      <th>0</th>\n",
       "      <td>Aatrox</td>\n",
       "      <td>Conquistador, Triunfo, Leyenda: Tenacidad, Últ...</td>\n",
       "      <td>266</td>\n",
       "    </tr>\n",
       "    <tr>\n",
       "      <th>1</th>\n",
       "      <td>Ahri</td>\n",
       "      <td>Electrocutar, Sabor a sangre, Colección de glo...</td>\n",
       "      <td>103</td>\n",
       "    </tr>\n",
       "    <tr>\n",
       "      <th>2</th>\n",
       "      <td>Akali</td>\n",
       "      <td>Conquistador, Claridad mental, Leyenda: Tenaci...</td>\n",
       "      <td>84</td>\n",
       "    </tr>\n",
       "    <tr>\n",
       "      <th>3</th>\n",
       "      <td>Akshan</td>\n",
       "      <td>Ataque intensificado, Claridad mental, Leyenda...</td>\n",
       "      <td>NaN</td>\n",
       "    </tr>\n",
       "    <tr>\n",
       "      <th>4</th>\n",
       "      <td>Alistar</td>\n",
       "      <td>Reverberacción, Fuente de vida, Revestimiento ...</td>\n",
       "      <td>12</td>\n",
       "    </tr>\n",
       "  </tbody>\n",
       "</table>\n",
       "</div>"
      ],
      "text/plain": [
       "   campeon                                              runas riot_id\n",
       "0   Aatrox  Conquistador, Triunfo, Leyenda: Tenacidad, Últ...     266\n",
       "1     Ahri  Electrocutar, Sabor a sangre, Colección de glo...     103\n",
       "2    Akali  Conquistador, Claridad mental, Leyenda: Tenaci...      84\n",
       "3   Akshan  Ataque intensificado, Claridad mental, Leyenda...     NaN\n",
       "4  Alistar  Reverberacción, Fuente de vida, Revestimiento ...      12"
      ]
     },
     "execution_count": 64,
     "metadata": {},
     "output_type": "execute_result"
    }
   ],
   "source": [
    "# Unimos df de runas con df de id de campeones obtenidos de la API\n",
    "df_1 = pd.merge(df_runas, df_ids, on = 'campeon', how = 'left')\n",
    "df_1.head()"
   ]
  },
  {
   "cell_type": "code",
   "execution_count": 65,
   "id": "e35b3fd7",
   "metadata": {
    "scrolled": true
   },
   "outputs": [
    {
     "data": {
      "text/html": [
       "<div>\n",
       "<style scoped>\n",
       "    .dataframe tbody tr th:only-of-type {\n",
       "        vertical-align: middle;\n",
       "    }\n",
       "\n",
       "    .dataframe tbody tr th {\n",
       "        vertical-align: top;\n",
       "    }\n",
       "\n",
       "    .dataframe thead th {\n",
       "        text-align: right;\n",
       "    }\n",
       "</style>\n",
       "<table border=\"1\" class=\"dataframe\">\n",
       "  <thead>\n",
       "    <tr style=\"text-align: right;\">\n",
       "      <th></th>\n",
       "      <th>campeon</th>\n",
       "      <th>fuerte</th>\n",
       "      <th>debil</th>\n",
       "      <th>hechizos</th>\n",
       "      <th>obj_ini</th>\n",
       "      <th>item_1</th>\n",
       "      <th>item_2</th>\n",
       "      <th>item_3</th>\n",
       "      <th>item_4</th>\n",
       "      <th>item_5</th>\n",
       "      <th>item_6</th>\n",
       "      <th>runas</th>\n",
       "      <th>riot_id</th>\n",
       "    </tr>\n",
       "  </thead>\n",
       "  <tbody>\n",
       "    <tr>\n",
       "      <th>0</th>\n",
       "      <td>Aatrox</td>\n",
       "      <td>Gwen Akali Sion Nasus Yorick</td>\n",
       "      <td>Rengar Jayce Fiora Gnar Shen</td>\n",
       "      <td>Destello Prender</td>\n",
       "      <td>Espada de Doran Poción de vida</td>\n",
       "      <td>Botas blindadas</td>\n",
       "      <td>Cuchilla negra</td>\n",
       "      <td>Guantelete de hielo</td>\n",
       "      <td>Rencor de Serylda</td>\n",
       "      <td>Baile de la muerte</td>\n",
       "      <td>Ángel de la guarda</td>\n",
       "      <td>Conquistador, Triunfo, Leyenda: Tenacidad, Últ...</td>\n",
       "      <td>266</td>\n",
       "    </tr>\n",
       "    <tr>\n",
       "      <th>1</th>\n",
       "      <td>Ahri</td>\n",
       "      <td>Azir Akali Ryze Veigar Orianna</td>\n",
       "      <td>Annie Zoe Fizz Zed Lux</td>\n",
       "      <td>Destello Prender</td>\n",
       "      <td>Anillo de Doran Poción de vida</td>\n",
       "      <td>Tempestad de Luden</td>\n",
       "      <td>Botas de hechicero</td>\n",
       "      <td>Llamasombría</td>\n",
       "      <td>Sombrero mortal de Rabadon</td>\n",
       "      <td>Velo del hada de la muerte</td>\n",
       "      <td>Reloj de arena de Zhonya</td>\n",
       "      <td>Electrocutar, Sabor a sangre, Colección de glo...</td>\n",
       "      <td>103</td>\n",
       "    </tr>\n",
       "    <tr>\n",
       "      <th>2</th>\n",
       "      <td>Akali</td>\n",
       "      <td>Ekko Viktor Yasuo Vladimir Yone</td>\n",
       "      <td>Annie Jayce Qiyana Zoe Pantheon</td>\n",
       "      <td>Destello Prender</td>\n",
       "      <td>Escudo de Doran Poción de vida</td>\n",
       "      <td>Botas de hechicero</td>\n",
       "      <td>Cintomisil hextech</td>\n",
       "      <td>Llamasombría</td>\n",
       "      <td>Reloj de arena de Zhonya</td>\n",
       "      <td>Sombrero mortal de Rabadon</td>\n",
       "      <td>Bastón del Vacío</td>\n",
       "      <td>Conquistador, Claridad mental, Leyenda: Tenaci...</td>\n",
       "      <td>84</td>\n",
       "    </tr>\n",
       "    <tr>\n",
       "      <th>3</th>\n",
       "      <td>Akshan</td>\n",
       "      <td>Azir Yone Orianna Tristana Malzahar</td>\n",
       "      <td>Annie Pantheon Yasuo Vex Anivia</td>\n",
       "      <td>Destello Prender</td>\n",
       "      <td>Espada larga Poción reutilizable</td>\n",
       "      <td>Verdugo de krakens</td>\n",
       "      <td>Botas de mercurio</td>\n",
       "      <td>Final del ingenio</td>\n",
       "      <td>Cañón de fuego rápido</td>\n",
       "      <td>Hoja de furia de Guinsoo</td>\n",
       "      <td>Ángel de la guarda</td>\n",
       "      <td>Ataque intensificado, Claridad mental, Leyenda...</td>\n",
       "      <td>NaN</td>\n",
       "    </tr>\n",
       "    <tr>\n",
       "      <th>4</th>\n",
       "      <td>Alistar</td>\n",
       "      <td>Yuumi Xerath Braum Blitzcrank Pyke</td>\n",
       "      <td>Taric Renata Glasc Rakan Swain Maokai</td>\n",
       "      <td>Destello Prender</td>\n",
       "      <td>Poción de vida Escudo reliquia</td>\n",
       "      <td>Botas de movilidad</td>\n",
       "      <td>Medallón de los Solari de Hierro</td>\n",
       "      <td>Malla de espinas</td>\n",
       "      <td>Piedra de guardianes atenta</td>\n",
       "      <td>Promesa de caballero</td>\n",
       "      <td>Bailarín espectral</td>\n",
       "      <td>Reverberacción, Fuente de vida, Revestimiento ...</td>\n",
       "      <td>12</td>\n",
       "    </tr>\n",
       "  </tbody>\n",
       "</table>\n",
       "</div>"
      ],
      "text/plain": [
       "   campeon                               fuerte  \\\n",
       "0   Aatrox         Gwen Akali Sion Nasus Yorick   \n",
       "1     Ahri       Azir Akali Ryze Veigar Orianna   \n",
       "2    Akali      Ekko Viktor Yasuo Vladimir Yone   \n",
       "3   Akshan  Azir Yone Orianna Tristana Malzahar   \n",
       "4  Alistar   Yuumi Xerath Braum Blitzcrank Pyke   \n",
       "\n",
       "                                   debil          hechizos  \\\n",
       "0           Rengar Jayce Fiora Gnar Shen  Destello Prender   \n",
       "1                 Annie Zoe Fizz Zed Lux  Destello Prender   \n",
       "2        Annie Jayce Qiyana Zoe Pantheon  Destello Prender   \n",
       "3        Annie Pantheon Yasuo Vex Anivia  Destello Prender   \n",
       "4  Taric Renata Glasc Rakan Swain Maokai  Destello Prender   \n",
       "\n",
       "                            obj_ini              item_1  \\\n",
       "0    Espada de Doran Poción de vida     Botas blindadas   \n",
       "1    Anillo de Doran Poción de vida  Tempestad de Luden   \n",
       "2    Escudo de Doran Poción de vida  Botas de hechicero   \n",
       "3  Espada larga Poción reutilizable  Verdugo de krakens   \n",
       "4    Poción de vida Escudo reliquia  Botas de movilidad   \n",
       "\n",
       "                             item_2               item_3  \\\n",
       "0                    Cuchilla negra  Guantelete de hielo   \n",
       "1                Botas de hechicero         Llamasombría   \n",
       "2                Cintomisil hextech         Llamasombría   \n",
       "3                 Botas de mercurio    Final del ingenio   \n",
       "4  Medallón de los Solari de Hierro     Malla de espinas   \n",
       "\n",
       "                        item_4                      item_5  \\\n",
       "0            Rencor de Serylda          Baile de la muerte   \n",
       "1   Sombrero mortal de Rabadon  Velo del hada de la muerte   \n",
       "2     Reloj de arena de Zhonya  Sombrero mortal de Rabadon   \n",
       "3        Cañón de fuego rápido    Hoja de furia de Guinsoo   \n",
       "4  Piedra de guardianes atenta        Promesa de caballero   \n",
       "\n",
       "                     item_6  \\\n",
       "0        Ángel de la guarda   \n",
       "1  Reloj de arena de Zhonya   \n",
       "2          Bastón del Vacío   \n",
       "3        Ángel de la guarda   \n",
       "4        Bailarín espectral   \n",
       "\n",
       "                                               runas riot_id  \n",
       "0  Conquistador, Triunfo, Leyenda: Tenacidad, Últ...     266  \n",
       "1  Electrocutar, Sabor a sangre, Colección de glo...     103  \n",
       "2  Conquistador, Claridad mental, Leyenda: Tenaci...      84  \n",
       "3  Ataque intensificado, Claridad mental, Leyenda...     NaN  \n",
       "4  Reverberacción, Fuente de vida, Revestimiento ...      12  "
      ]
     },
     "execution_count": 65,
     "metadata": {},
     "output_type": "execute_result"
    }
   ],
   "source": [
    "# Unimos el resultante con df obtenido del scrapeo de webs\n",
    "df = pd.merge(df_champs2, df_1, on='campeon', how='right')\n",
    "df.head()"
   ]
  },
  {
   "cell_type": "code",
   "execution_count": 89,
   "id": "a5261f2d",
   "metadata": {},
   "outputs": [
    {
     "data": {
      "text/html": [
       "<div>\n",
       "<style scoped>\n",
       "    .dataframe tbody tr th:only-of-type {\n",
       "        vertical-align: middle;\n",
       "    }\n",
       "\n",
       "    .dataframe tbody tr th {\n",
       "        vertical-align: top;\n",
       "    }\n",
       "\n",
       "    .dataframe thead th {\n",
       "        text-align: right;\n",
       "    }\n",
       "</style>\n",
       "<table border=\"1\" class=\"dataframe\">\n",
       "  <thead>\n",
       "    <tr style=\"text-align: right;\">\n",
       "      <th></th>\n",
       "      <th>campeon</th>\n",
       "      <th>tipo</th>\n",
       "      <th>rol</th>\n",
       "      <th>Tier</th>\n",
       "      <th>winrate</th>\n",
       "      <th>pickrate</th>\n",
       "      <th>banrate</th>\n",
       "      <th>KDA</th>\n",
       "      <th>fuerte</th>\n",
       "      <th>debil</th>\n",
       "      <th>hechizos</th>\n",
       "      <th>obj_ini</th>\n",
       "      <th>item_1</th>\n",
       "      <th>item_2</th>\n",
       "      <th>item_3</th>\n",
       "      <th>item_4</th>\n",
       "      <th>item_5</th>\n",
       "      <th>item_6</th>\n",
       "      <th>runas</th>\n",
       "      <th>riot_id</th>\n",
       "    </tr>\n",
       "  </thead>\n",
       "  <tbody>\n",
       "    <tr>\n",
       "      <th>0</th>\n",
       "      <td>Aatrox</td>\n",
       "      <td>Fighter</td>\n",
       "      <td>TOP</td>\n",
       "      <td>A</td>\n",
       "      <td>49.97%</td>\n",
       "      <td>4.43%</td>\n",
       "      <td>2.03%</td>\n",
       "      <td>1.97</td>\n",
       "      <td>Gwen Akali Sion Nasus Yorick</td>\n",
       "      <td>Rengar Jayce Fiora Gnar Shen</td>\n",
       "      <td>Destello Prender</td>\n",
       "      <td>Espada de Doran Poción de vida</td>\n",
       "      <td>Botas blindadas</td>\n",
       "      <td>Cuchilla negra</td>\n",
       "      <td>Guantelete de hielo</td>\n",
       "      <td>Rencor de Serylda</td>\n",
       "      <td>Baile de la muerte</td>\n",
       "      <td>Ángel de la guarda</td>\n",
       "      <td>Conquistador, Triunfo, Leyenda: Tenacidad, Últ...</td>\n",
       "      <td>266</td>\n",
       "    </tr>\n",
       "    <tr>\n",
       "      <th>1</th>\n",
       "      <td>Ahri</td>\n",
       "      <td>Mage</td>\n",
       "      <td>MID</td>\n",
       "      <td>A</td>\n",
       "      <td>49.93%</td>\n",
       "      <td>4.62%</td>\n",
       "      <td>1.04%</td>\n",
       "      <td>2.56</td>\n",
       "      <td>Azir Akali Ryze Veigar Orianna</td>\n",
       "      <td>Annie Zoe Fizz Zed Lux</td>\n",
       "      <td>Destello Prender</td>\n",
       "      <td>Anillo de Doran Poción de vida</td>\n",
       "      <td>Tempestad de Luden</td>\n",
       "      <td>Botas de hechicero</td>\n",
       "      <td>Llamasombría</td>\n",
       "      <td>Sombrero mortal de Rabadon</td>\n",
       "      <td>Velo del hada de la muerte</td>\n",
       "      <td>Reloj de arena de Zhonya</td>\n",
       "      <td>Electrocutar, Sabor a sangre, Colección de glo...</td>\n",
       "      <td>103</td>\n",
       "    </tr>\n",
       "    <tr>\n",
       "      <th>2</th>\n",
       "      <td>Akali</td>\n",
       "      <td>Assassin</td>\n",
       "      <td>MID</td>\n",
       "      <td>S</td>\n",
       "      <td>48.59%</td>\n",
       "      <td>8.16%</td>\n",
       "      <td>12.88%</td>\n",
       "      <td>2.34</td>\n",
       "      <td>Ekko Viktor Yasuo Vladimir Yone</td>\n",
       "      <td>Annie Jayce Qiyana Zoe Pantheon</td>\n",
       "      <td>Destello Prender</td>\n",
       "      <td>Escudo de Doran Poción de vida</td>\n",
       "      <td>Botas de hechicero</td>\n",
       "      <td>Cintomisil hextech</td>\n",
       "      <td>Llamasombría</td>\n",
       "      <td>Reloj de arena de Zhonya</td>\n",
       "      <td>Sombrero mortal de Rabadon</td>\n",
       "      <td>Bastón del Vacío</td>\n",
       "      <td>Conquistador, Claridad mental, Leyenda: Tenaci...</td>\n",
       "      <td>84</td>\n",
       "    </tr>\n",
       "    <tr>\n",
       "      <th>3</th>\n",
       "      <td>Akali</td>\n",
       "      <td>Assassin</td>\n",
       "      <td>TOP</td>\n",
       "      <td>A</td>\n",
       "      <td>48.57%</td>\n",
       "      <td>4.24%</td>\n",
       "      <td>12.88%</td>\n",
       "      <td>2.04</td>\n",
       "      <td>Ekko Viktor Yasuo Vladimir Yone</td>\n",
       "      <td>Annie Jayce Qiyana Zoe Pantheon</td>\n",
       "      <td>Destello Prender</td>\n",
       "      <td>Escudo de Doran Poción de vida</td>\n",
       "      <td>Botas de hechicero</td>\n",
       "      <td>Cintomisil hextech</td>\n",
       "      <td>Llamasombría</td>\n",
       "      <td>Reloj de arena de Zhonya</td>\n",
       "      <td>Sombrero mortal de Rabadon</td>\n",
       "      <td>Bastón del Vacío</td>\n",
       "      <td>Conquistador, Claridad mental, Leyenda: Tenaci...</td>\n",
       "      <td>84</td>\n",
       "    </tr>\n",
       "    <tr>\n",
       "      <th>4</th>\n",
       "      <td>Akshan</td>\n",
       "      <td>Marksman</td>\n",
       "      <td>MID</td>\n",
       "      <td>S</td>\n",
       "      <td>51.46%</td>\n",
       "      <td>4.83%</td>\n",
       "      <td>21.91%</td>\n",
       "      <td>2.23</td>\n",
       "      <td>Azir Yone Orianna Tristana Malzahar</td>\n",
       "      <td>Annie Pantheon Yasuo Vex Anivia</td>\n",
       "      <td>Destello Prender</td>\n",
       "      <td>Espada larga Poción reutilizable</td>\n",
       "      <td>Verdugo de krakens</td>\n",
       "      <td>Botas de mercurio</td>\n",
       "      <td>Final del ingenio</td>\n",
       "      <td>Cañón de fuego rápido</td>\n",
       "      <td>Hoja de furia de Guinsoo</td>\n",
       "      <td>Ángel de la guarda</td>\n",
       "      <td>Ataque intensificado, Claridad mental, Leyenda...</td>\n",
       "      <td>NaN</td>\n",
       "    </tr>\n",
       "  </tbody>\n",
       "</table>\n",
       "</div>"
      ],
      "text/plain": [
       "  campeon      tipo  rol Tier winrate pickrate banrate   KDA  \\\n",
       "0  Aatrox   Fighter  TOP    A  49.97%    4.43%   2.03%  1.97   \n",
       "1    Ahri      Mage  MID    A  49.93%    4.62%   1.04%  2.56   \n",
       "2   Akali  Assassin  MID    S  48.59%    8.16%  12.88%  2.34   \n",
       "3   Akali  Assassin  TOP    A  48.57%    4.24%  12.88%  2.04   \n",
       "4  Akshan  Marksman  MID    S  51.46%    4.83%  21.91%  2.23   \n",
       "\n",
       "                                fuerte                            debil  \\\n",
       "0         Gwen Akali Sion Nasus Yorick     Rengar Jayce Fiora Gnar Shen   \n",
       "1       Azir Akali Ryze Veigar Orianna           Annie Zoe Fizz Zed Lux   \n",
       "2      Ekko Viktor Yasuo Vladimir Yone  Annie Jayce Qiyana Zoe Pantheon   \n",
       "3      Ekko Viktor Yasuo Vladimir Yone  Annie Jayce Qiyana Zoe Pantheon   \n",
       "4  Azir Yone Orianna Tristana Malzahar  Annie Pantheon Yasuo Vex Anivia   \n",
       "\n",
       "           hechizos                           obj_ini              item_1  \\\n",
       "0  Destello Prender    Espada de Doran Poción de vida     Botas blindadas   \n",
       "1  Destello Prender    Anillo de Doran Poción de vida  Tempestad de Luden   \n",
       "2  Destello Prender    Escudo de Doran Poción de vida  Botas de hechicero   \n",
       "3  Destello Prender    Escudo de Doran Poción de vida  Botas de hechicero   \n",
       "4  Destello Prender  Espada larga Poción reutilizable  Verdugo de krakens   \n",
       "\n",
       "               item_2               item_3                      item_4  \\\n",
       "0      Cuchilla negra  Guantelete de hielo           Rencor de Serylda   \n",
       "1  Botas de hechicero         Llamasombría  Sombrero mortal de Rabadon   \n",
       "2  Cintomisil hextech         Llamasombría    Reloj de arena de Zhonya   \n",
       "3  Cintomisil hextech         Llamasombría    Reloj de arena de Zhonya   \n",
       "4   Botas de mercurio    Final del ingenio       Cañón de fuego rápido   \n",
       "\n",
       "                       item_5                    item_6  \\\n",
       "0          Baile de la muerte        Ángel de la guarda   \n",
       "1  Velo del hada de la muerte  Reloj de arena de Zhonya   \n",
       "2  Sombrero mortal de Rabadon          Bastón del Vacío   \n",
       "3  Sombrero mortal de Rabadon          Bastón del Vacío   \n",
       "4    Hoja de furia de Guinsoo        Ángel de la guarda   \n",
       "\n",
       "                                               runas riot_id  \n",
       "0  Conquistador, Triunfo, Leyenda: Tenacidad, Últ...     266  \n",
       "1  Electrocutar, Sabor a sangre, Colección de glo...     103  \n",
       "2  Conquistador, Claridad mental, Leyenda: Tenaci...      84  \n",
       "3  Conquistador, Claridad mental, Leyenda: Tenaci...      84  \n",
       "4  Ataque intensificado, Claridad mental, Leyenda...     NaN  "
      ]
     },
     "execution_count": 89,
     "metadata": {},
     "output_type": "execute_result"
    }
   ],
   "source": [
    "# Hacemos merge con nuestro df origen para contruir el df definitivo.\n",
    "\n",
    "lol = pd.merge(df_champs, df, on='campeon', how='left')\n",
    "lol.head()"
   ]
  },
  {
   "cell_type": "code",
   "execution_count": 102,
   "id": "f684dd2d",
   "metadata": {},
   "outputs": [
    {
     "data": {
      "text/plain": [
       "'N nan cols: 13'"
      ]
     },
     "metadata": {},
     "output_type": "display_data"
    },
    {
     "data": {
      "text/plain": [
       "tipo         0.431034\n",
       "fuerte       3.448276\n",
       "debil        3.448276\n",
       "hechizos     3.448276\n",
       "obj_ini      3.448276\n",
       "item_1       3.448276\n",
       "item_2       3.448276\n",
       "item_3       3.448276\n",
       "item_4       3.448276\n",
       "item_5       3.448276\n",
       "item_6       3.448276\n",
       "runas        3.448276\n",
       "riot_id     25.431034\n",
       "dtype: float64"
      ]
     },
     "metadata": {},
     "output_type": "display_data"
    },
    {
     "data": {
      "image/png": "[encoded data removed]",
      "text/plain": [
       "<Figure size 500x300 with 1 Axes>"
      ]
     },
     "metadata": {},
     "output_type": "display_data"
    }
   ],
   "source": [
    "# Puesto que hemos hecho merge, probablemente se hayan generado bastantes valores nulos.\n",
    "# Comprobamos si esto es verdad para poder limpiarlos.\n",
    "\n",
    "check_nan(lol)"
   ]
  },
  {
   "cell_type": "code",
   "execution_count": null,
   "id": "34f3ee13",
   "metadata": {},
   "outputs": [],
   "source": [
    "# Puesto que la base de datos la he hecho yo, se perfectamente que los valores nulos son referentes a información \n",
    "# que no tenemos. Es por esto que decido rellenar con 'Unknown'."
   ]
  },
  {
   "cell_type": "code",
   "execution_count": 103,
   "id": "7f4b2062",
   "metadata": {},
   "outputs": [],
   "source": [
    "lol.fillna('Unknown', inplace = True)"
   ]
  },
  {
   "cell_type": "code",
   "execution_count": 104,
   "id": "de1f7a85",
   "metadata": {
    "scrolled": true
   },
   "outputs": [
    {
     "data": {
      "text/plain": [
       "'N nan cols: 0'"
      ]
     },
     "metadata": {},
     "output_type": "display_data"
    },
    {
     "data": {
      "text/plain": [
       "Series([], dtype: float64)"
      ]
     },
     "metadata": {},
     "output_type": "display_data"
    },
    {
     "data": {
      "image/png": "[encoded data removed]",
      "text/plain": [
       "<Figure size 500x300 with 1 Axes>"
      ]
     },
     "metadata": {},
     "output_type": "display_data"
    }
   ],
   "source": [
    "check_nan(lol)"
   ]
  },
  {
   "cell_type": "code",
   "execution_count": null,
   "id": "ce3d6589",
   "metadata": {},
   "outputs": [],
   "source": [
    "# Nuestro df está limpio"
   ]
  },
  {
   "cell_type": "markdown",
   "id": "a98ab63c",
   "metadata": {},
   "source": [
    "**TABLA OBJETOS**"
   ]
  },
  {
   "cell_type": "code",
   "execution_count": null,
   "id": "8c266c63",
   "metadata": {},
   "outputs": [],
   "source": [
    "# Por otro lado me parece interesante crear una tabla con los objetos disponibles del juego y sus stats para su \n",
    "# consulta\n",
    "# Se incluirá en la base de datos sin relacionarla con ninguna otra tabla."
   ]
  },
  {
   "cell_type": "code",
   "execution_count": 90,
   "id": "098c541b",
   "metadata": {},
   "outputs": [],
   "source": [
    "url='https://www.mobachampion.com/es/item/'\n",
    "driver=webdriver.Chrome(PATH)\n",
    "driver.get(url)\n"
   ]
  },
  {
   "cell_type": "code",
   "execution_count": 91,
   "id": "b5e3fd8f",
   "metadata": {},
   "outputs": [],
   "source": [
    "data2 = driver.find_elements(By.TAG_NAME, 'td') \n"
   ]
  },
  {
   "cell_type": "code",
   "execution_count": 92,
   "id": "32a973ac",
   "metadata": {},
   "outputs": [
    {
     "data": {
      "text/plain": [
       "['Botas', '36.2 %', '2.8 %', 'Amuleto de las hadas', '42.9 %']"
      ]
     },
     "execution_count": 92,
     "metadata": {},
     "output_type": "execute_result"
    }
   ],
   "source": [
    "# Limpiamos la información que nos llega en bruto\n",
    "objeto_winrate3 = [e.text for e in data2 if e.text != '']\n",
    "objeto_winrate3[:5]"
   ]
  },
  {
   "cell_type": "code",
   "execution_count": 93,
   "id": "72c5723c",
   "metadata": {},
   "outputs": [
    {
     "data": {
      "text/plain": [
       "['Botas',\n",
       " 'Amuleto de las hadas',\n",
       " 'Perla de rejuvenecimiento',\n",
       " 'Cinturón de gigante',\n",
       " 'Capa de agilidad']"
      ]
     },
     "execution_count": 93,
     "metadata": {},
     "output_type": "execute_result"
    }
   ],
   "source": [
    "# Filtramos para separar los tres campos que nos interesan\n",
    "\n",
    "obj_name = objeto_winrate3[::3]\n",
    "obj_name[:5]"
   ]
  },
  {
   "cell_type": "code",
   "execution_count": 94,
   "id": "e2d849ad",
   "metadata": {},
   "outputs": [
    {
     "data": {
      "text/plain": [
       "['36.2 %', '42.9 %', '45.4 %', '48.3 %', '44.4 %']"
      ]
     },
     "execution_count": 94,
     "metadata": {},
     "output_type": "execute_result"
    }
   ],
   "source": [
    "obj_winrate = objeto_winrate3[1::3]\n",
    "obj_winrate[:5]"
   ]
  },
  {
   "cell_type": "code",
   "execution_count": 95,
   "id": "9186c45e",
   "metadata": {},
   "outputs": [
    {
     "data": {
      "text/plain": [
       "['2.8 %', '0.6 %', '0.1 %', '3.7 %', '4.8 %']"
      ]
     },
     "execution_count": 95,
     "metadata": {},
     "output_type": "execute_result"
    }
   ],
   "source": [
    "obj_pickrate = objeto_winrate3[2::3]\n",
    "obj_pickrate[:5]"
   ]
  },
  {
   "cell_type": "code",
   "execution_count": 96,
   "id": "c3c6433a",
   "metadata": {},
   "outputs": [
    {
     "data": {
      "text/plain": [
       "[0, 1, 2, 3, 4]"
      ]
     },
     "execution_count": 96,
     "metadata": {},
     "output_type": "execute_result"
    }
   ],
   "source": [
    "# Creamos una lista con números hasta el rango de nuestro futuro df\n",
    "obj_id = [i for i in range(len(obj_name))]\n",
    "obj_id[:5]"
   ]
  },
  {
   "cell_type": "code",
   "execution_count": 97,
   "id": "3287507d",
   "metadata": {},
   "outputs": [],
   "source": [
    "# Preparamos los datos y nombres de columnas para generar por fin, el df.\n",
    "obj_data = {'objeto_id': obj_id,\n",
    "            'objeto':obj_name,\n",
    "            'winrate':obj_winrate,\n",
    "            'pickrate':obj_pickrate}"
   ]
  },
  {
   "cell_type": "code",
   "execution_count": 98,
   "id": "beb870c9",
   "metadata": {},
   "outputs": [
    {
     "data": {
      "text/html": [
       "<div>\n",
       "<style scoped>\n",
       "    .dataframe tbody tr th:only-of-type {\n",
       "        vertical-align: middle;\n",
       "    }\n",
       "\n",
       "    .dataframe tbody tr th {\n",
       "        vertical-align: top;\n",
       "    }\n",
       "\n",
       "    .dataframe thead th {\n",
       "        text-align: right;\n",
       "    }\n",
       "</style>\n",
       "<table border=\"1\" class=\"dataframe\">\n",
       "  <thead>\n",
       "    <tr style=\"text-align: right;\">\n",
       "      <th></th>\n",
       "      <th>objeto_id</th>\n",
       "      <th>objeto</th>\n",
       "      <th>winrate</th>\n",
       "      <th>pickrate</th>\n",
       "    </tr>\n",
       "  </thead>\n",
       "  <tbody>\n",
       "    <tr>\n",
       "      <th>0</th>\n",
       "      <td>0</td>\n",
       "      <td>Botas</td>\n",
       "      <td>36.2 %</td>\n",
       "      <td>2.8 %</td>\n",
       "    </tr>\n",
       "    <tr>\n",
       "      <th>1</th>\n",
       "      <td>1</td>\n",
       "      <td>Amuleto de las hadas</td>\n",
       "      <td>42.9 %</td>\n",
       "      <td>0.6 %</td>\n",
       "    </tr>\n",
       "    <tr>\n",
       "      <th>2</th>\n",
       "      <td>2</td>\n",
       "      <td>Perla de rejuvenecimiento</td>\n",
       "      <td>45.4 %</td>\n",
       "      <td>0.1 %</td>\n",
       "    </tr>\n",
       "    <tr>\n",
       "      <th>3</th>\n",
       "      <td>3</td>\n",
       "      <td>Cinturón de gigante</td>\n",
       "      <td>48.3 %</td>\n",
       "      <td>3.7 %</td>\n",
       "    </tr>\n",
       "    <tr>\n",
       "      <th>4</th>\n",
       "      <td>4</td>\n",
       "      <td>Capa de agilidad</td>\n",
       "      <td>44.4 %</td>\n",
       "      <td>4.8 %</td>\n",
       "    </tr>\n",
       "  </tbody>\n",
       "</table>\n",
       "</div>"
      ],
      "text/plain": [
       "   objeto_id                     objeto winrate pickrate\n",
       "0          0                      Botas  36.2 %    2.8 %\n",
       "1          1       Amuleto de las hadas  42.9 %    0.6 %\n",
       "2          2  Perla de rejuvenecimiento  45.4 %    0.1 %\n",
       "3          3        Cinturón de gigante  48.3 %    3.7 %\n",
       "4          4           Capa de agilidad  44.4 %    4.8 %"
      ]
     },
     "execution_count": 98,
     "metadata": {},
     "output_type": "execute_result"
    }
   ],
   "source": [
    "objetos = pd.DataFrame(obj_data)\n",
    "\n",
    "objetos.head()"
   ]
  },
  {
   "cell_type": "markdown",
   "id": "3139564b",
   "metadata": {},
   "source": [
    "**EXPORTACIÓN A SQL**"
   ]
  },
  {
   "cell_type": "code",
   "execution_count": null,
   "id": "74266948",
   "metadata": {},
   "outputs": [],
   "source": [
    "# A través del siguiente proceso, cargaremos nuestros datos extraidos de diversas fuentes ya limpios y ordenados \n",
    "# en nuestro servidor de SQL.\n",
    "# A partir de este punto trabajaremos con la anteriormente mencionada herramienta a través de su interfaz gráfica \n",
    "# MySQL Workbench\n",
    "\n",
    "# Con los datos cargados, haremos un reverse engineer para poder hacer las relaciones gráficamente. \n",
    "# En este mismo repositorio se pueden encontrar algunos ejemplos de querys, las cuales avalan el funcionamiento y la\n",
    "# funcionalidad de nuestra bd."
   ]
  },
  {
   "cell_type": "code",
   "execution_count": 105,
   "id": "ad7b157c",
   "metadata": {},
   "outputs": [],
   "source": [
    "from sqlalchemy import create_engine\n",
    "\n",
    "str_conn = 'mysql+pymysql://{user}:{passwrd}@{host}/{database}'\n",
    "cursor = create_engine(str_conn)"
   ]
  },
  {
   "cell_type": "code",
   "execution_count": 106,
   "id": "bcb96a87",
   "metadata": {},
   "outputs": [
    {
     "data": {
      "text/plain": [
       "232"
      ]
     },
     "execution_count": 106,
     "metadata": {},
     "output_type": "execute_result"
    }
   ],
   "source": [
    "lol.to_sql(name='campeones', con=cursor, if_exists='replace', index=0)"
   ]
  },
  {
   "cell_type": "code",
   "execution_count": 108,
   "id": "fd2956a4",
   "metadata": {},
   "outputs": [
    {
     "data": {
      "text/plain": [
       "16"
      ]
     },
     "execution_count": 108,
     "metadata": {},
     "output_type": "execute_result"
    }
   ],
   "source": [
    "df_disp.to_sql(name='disponibilidad', con=cursor, if_exists='replace', index=0)"
   ]
  },
  {
   "cell_type": "code",
   "execution_count": 109,
   "id": "5c7d55bd",
   "metadata": {},
   "outputs": [
    {
     "data": {
      "text/plain": [
       "205"
      ]
     },
     "execution_count": 109,
     "metadata": {},
     "output_type": "execute_result"
    }
   ],
   "source": [
    "objetos.to_sql(name='objetos', con=cursor, if_exists='replace', index=0)"
   ]
  },
  {
   "cell_type": "markdown",
   "id": "bb143748",
   "metadata": {},
   "source": [
    "**EXPORTACIÓN A .CSV**"
   ]
  },
  {
   "cell_type": "code",
   "execution_count": 1,
   "id": "8d70d537",
   "metadata": {},
   "outputs": [],
   "source": [
    "# Por último exportaremos nuestros archivos ya limpios y listos para cargar a csv"
   ]
  },
  {
   "cell_type": "code",
   "execution_count": 3,
   "id": "90e3db2b",
   "metadata": {},
   "outputs": [],
   "source": [
    "lol.to_csv('../data/lol.csv', index=False)"
   ]
  },
  {
   "cell_type": "code",
   "execution_count": null,
   "id": "64734318",
   "metadata": {},
   "outputs": [],
   "source": [
    "df_disp.to_csv('../data/disponibilidad.csv', index=False)"
   ]
  },
  {
   "cell_type": "code",
   "execution_count": null,
   "id": "ad58e916",
   "metadata": {},
   "outputs": [],
   "source": [
    "objetos.to_csv('../data/objetos.csv', index=False)"
   ]
  }
 ],
 "metadata": {
  "kernelspec": {
   "display_name": "Python 3 (ipykernel)",
   "language": "python",
   "name": "python3"
  },
  "language_info": {
   "codemirror_mode": {
    "name": "ipython",
    "version": 3
   },
   "file_extension": ".py",
   "mimetype": "text/x-python",
   "name": "python",
   "nbconvert_exporter": "python",
   "pygments_lexer": "ipython3",
   "version": "3.9.13"
  }
 },
 "nbformat": 4,
 "nbformat_minor": 5
}
